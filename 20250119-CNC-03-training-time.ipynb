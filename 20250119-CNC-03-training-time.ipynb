{
 "cells": [
  {
   "cell_type": "code",
   "execution_count": 1,
   "metadata": {},
   "outputs": [],
   "source": [
    "import warnings\n",
    "warnings.filterwarnings('ignore')\n",
    "\n",
    "SEED = 42\n",
    "SAMPLE_RATE = 2000 # Hz\n",
    "SKIP_SECONDS = 5 # sec\n",
    "TIME_LENGTH = 6 # sec\n",
    "OVERLAP_SECONDS = 2 # sec\n",
    "# SCALING = True\n",
    "SCALING = False\n",
    "TYPE_ANOMALY_DETECTION = \"Novelty\"\n",
    "# TYPE_ANOMALY_DETECTION = \"Outlier\"\n",
    "# TYPE_DOMAIN = \"freq\"\n",
    "TYPE_DOMAIN = \"time\""
   ]
  },
  {
   "cell_type": "code",
   "execution_count": 2,
   "metadata": {},
   "outputs": [],
   "source": [
    "import pickle\n",
    "import numpy as np\n",
    "import matplotlib.pyplot as plt\n",
    "\n",
    "# load X_raw_data.pkl, y_raw_data.pkl\n",
    "with open(\"X_raw_data.pkl\", \"rb\") as file:\n",
    "    X_raw_data = pickle.load(file)\n",
    "\n",
    "with open(\"y_raw_data.pkl\", \"rb\") as file:\n",
    "    y_raw_data = pickle.load(file)\n",
    "    \n",
    "for arr in X_raw_data:\n",
    "    arr[:, 2] += 1000\n",
    "\n",
    "def process_time_series_with_overlap(data, sample_rate=2000, skip_seconds=5, segment_seconds=6, overlap_seconds=2):\n",
    "    \"\"\"\n",
    "    處理 time series data，去除開頭資料並切分成固定長度、具有 overlap 的片段。\n",
    "    \n",
    "    :param data: numpy array, shape = (length, 3)\n",
    "    :param sample_rate: 採樣率, 預設 2000 Hz\n",
    "    :param skip_seconds: 開頭跳過的秒數, 預設 5 秒\n",
    "    :param segment_seconds: 每段切分的秒數, 預設 6 秒\n",
    "    :param overlap_seconds: 每段之間的重疊秒數, 預設 2 秒\n",
    "    :return: 切分後的資料列表，每個元素為 numpy array\n",
    "    \"\"\"\n",
    "    # 計算需要跳過的資料行數\n",
    "    skip_rows = skip_seconds * sample_rate\n",
    "    # 計算每段的行數\n",
    "    segment_rows = segment_seconds * sample_rate\n",
    "    # 計算每次移動的步數 (segment_rows - overlap_rows)\n",
    "    overlap_rows = overlap_seconds * sample_rate\n",
    "    step_rows = segment_rows - overlap_rows\n",
    "\n",
    "    # 去掉開頭的資料\n",
    "    data = data[skip_rows:]\n",
    "    \n",
    "    # 切分資料，加入 overlap\n",
    "    segments = [data[i:i + segment_rows] for i in range(0, len(data) - segment_rows + 1, step_rows)]\n",
    "    \n",
    "    # return segments[0:1]\n",
    "    return segments"
   ]
  },
  {
   "cell_type": "code",
   "execution_count": 3,
   "metadata": {},
   "outputs": [],
   "source": [
    "good_indices = [index for index, value in enumerate(y_raw_data) if 'good' in value]\n",
    "bad_indices = [index for index, value in enumerate(y_raw_data) if 'bad' in value]"
   ]
  },
  {
   "cell_type": "code",
   "execution_count": 4,
   "metadata": {},
   "outputs": [
    {
     "data": {
      "text/plain": [
       "(1562, 70, 70)"
      ]
     },
     "execution_count": 4,
     "metadata": {},
     "output_type": "execute_result"
    }
   ],
   "source": [
    "import random\n",
    "random.seed(SEED)\n",
    "\n",
    "good_test_indices = random.sample(good_indices, len(bad_indices))\n",
    "good_train_indices = [i for i in good_indices if i not in good_test_indices]\n",
    "good_train_indices.sort(), good_test_indices.sort()\n",
    "len(good_train_indices), len(good_test_indices), len(bad_indices)"
   ]
  },
  {
   "cell_type": "code",
   "execution_count": 5,
   "metadata": {},
   "outputs": [],
   "source": [
    "# X_raw_data 分成 X_raw_good, X_raw_bad\n",
    "# X_raw_good 分成 X_raw_good_train, X_raw_good_test\n",
    "\n",
    "X_raw_good_train = []\n",
    "X_raw_good_test = []\n",
    "X_raw_bad = [] \n",
    "\n",
    "for i in good_train_indices:\n",
    "    X_raw_good_train.extend(process_time_series_with_overlap(X_raw_data[i], SAMPLE_RATE, SKIP_SECONDS, TIME_LENGTH, OVERLAP_SECONDS))\n",
    "\n",
    "for i in good_test_indices:\n",
    "    X_raw_good_test.extend(process_time_series_with_overlap(X_raw_data[i], SAMPLE_RATE, SKIP_SECONDS, TIME_LENGTH, OVERLAP_SECONDS))\n",
    "\n",
    "for i in bad_indices:\n",
    "    X_raw_bad.extend(process_time_series_with_overlap(X_raw_data[i], SAMPLE_RATE, SKIP_SECONDS, TIME_LENGTH, OVERLAP_SECONDS))\n",
    "\n",
    "# X_data1 = np.array(X_data)\n",
    "# X_data_abs = np.abs(X_data1)\n",
    "# x_abs_max, y_abs_max, z_abs_max = X_data_abs[:,:,0].max(), X_data_abs[:,:,1].max(), X_data_abs[:,:,2].max()\n",
    "\n",
    "# ## Scaling\n",
    "# if SCALING:\n",
    "#     for i,m_i in enumerate([x_abs_max, y_abs_max, z_abs_max]):\n",
    "#         X_data1[:,:,i] = X_data1[:,:,i]/m_i"
   ]
  },
  {
   "cell_type": "code",
   "execution_count": 6,
   "metadata": {},
   "outputs": [
    {
     "data": {
      "text/plain": [
       "(17186, 777, 543)"
      ]
     },
     "execution_count": 6,
     "metadata": {},
     "output_type": "execute_result"
    }
   ],
   "source": [
    "len(X_raw_good_train), len(X_raw_good_test), len(X_raw_bad)"
   ]
  },
  {
   "cell_type": "code",
   "execution_count": 7,
   "metadata": {},
   "outputs": [],
   "source": [
    "X_good_train = np.array(X_raw_good_train)\n",
    "X_good_test = np.array(X_raw_good_test)\n",
    "X_bad = np.array(X_raw_bad)"
   ]
  },
  {
   "cell_type": "code",
   "execution_count": 8,
   "metadata": {},
   "outputs": [
    {
     "name": "stderr",
     "output_type": "stream",
     "text": [
      "2025-01-19 19:02:53.757948: I tensorflow/core/platform/cpu_feature_guard.cc:193] This TensorFlow binary is optimized with oneAPI Deep Neural Network Library (oneDNN) to use the following CPU instructions in performance-critical operations:  AVX2 AVX512F FMA\n",
      "To enable them in other operations, rebuild TensorFlow with the appropriate compiler flags.\n",
      "2025-01-19 19:02:54.614947: W tensorflow/compiler/xla/stream_executor/platform/default/dso_loader.cc:64] Could not load dynamic library 'libnvinfer.so.7'; dlerror: libnvinfer.so.7: cannot open shared object file: No such file or directory; LD_LIBRARY_PATH: /usr/local/cuda-11.2/lib64:\n",
      "2025-01-19 19:02:54.615065: W tensorflow/compiler/xla/stream_executor/platform/default/dso_loader.cc:64] Could not load dynamic library 'libnvinfer_plugin.so.7'; dlerror: libnvinfer_plugin.so.7: cannot open shared object file: No such file or directory; LD_LIBRARY_PATH: /usr/local/cuda-11.2/lib64:\n",
      "2025-01-19 19:02:54.615074: W tensorflow/compiler/tf2tensorrt/utils/py_utils.cc:38] TF-TRT Warning: Cannot dlopen some TensorRT libraries. If you would like to use Nvidia GPU with TensorRT, please make sure the missing libraries mentioned above are installed properly.\n",
      "2025-01-19 19:02:55.677979: I tensorflow/compiler/xla/stream_executor/cuda/cuda_gpu_executor.cc:981] successful NUMA node read from SysFS had negative value (-1), but there must be at least one NUMA node, so returning NUMA node zero\n",
      "2025-01-19 19:02:55.687732: I tensorflow/compiler/xla/stream_executor/cuda/cuda_gpu_executor.cc:981] successful NUMA node read from SysFS had negative value (-1), but there must be at least one NUMA node, so returning NUMA node zero\n",
      "2025-01-19 19:02:55.687990: I tensorflow/compiler/xla/stream_executor/cuda/cuda_gpu_executor.cc:981] successful NUMA node read from SysFS had negative value (-1), but there must be at least one NUMA node, so returning NUMA node zero\n",
      "2025-01-19 19:02:55.688543: I tensorflow/core/platform/cpu_feature_guard.cc:193] This TensorFlow binary is optimized with oneAPI Deep Neural Network Library (oneDNN) to use the following CPU instructions in performance-critical operations:  AVX2 AVX512F FMA\n",
      "To enable them in other operations, rebuild TensorFlow with the appropriate compiler flags.\n",
      "2025-01-19 19:02:55.689407: I tensorflow/compiler/xla/stream_executor/cuda/cuda_gpu_executor.cc:981] successful NUMA node read from SysFS had negative value (-1), but there must be at least one NUMA node, so returning NUMA node zero\n",
      "2025-01-19 19:02:55.689660: I tensorflow/compiler/xla/stream_executor/cuda/cuda_gpu_executor.cc:981] successful NUMA node read from SysFS had negative value (-1), but there must be at least one NUMA node, so returning NUMA node zero\n",
      "2025-01-19 19:02:55.689862: I tensorflow/compiler/xla/stream_executor/cuda/cuda_gpu_executor.cc:981] successful NUMA node read from SysFS had negative value (-1), but there must be at least one NUMA node, so returning NUMA node zero\n",
      "2025-01-19 19:02:56.371901: I tensorflow/compiler/xla/stream_executor/cuda/cuda_gpu_executor.cc:981] successful NUMA node read from SysFS had negative value (-1), but there must be at least one NUMA node, so returning NUMA node zero\n",
      "2025-01-19 19:02:56.372233: I tensorflow/compiler/xla/stream_executor/cuda/cuda_gpu_executor.cc:981] successful NUMA node read from SysFS had negative value (-1), but there must be at least one NUMA node, so returning NUMA node zero\n",
      "2025-01-19 19:02:56.372490: I tensorflow/compiler/xla/stream_executor/cuda/cuda_gpu_executor.cc:981] successful NUMA node read from SysFS had negative value (-1), but there must be at least one NUMA node, so returning NUMA node zero\n",
      "2025-01-19 19:02:56.372682: I tensorflow/core/common_runtime/gpu/gpu_device.cc:1613] Created device /job:localhost/replica:0/task:0/device:GPU:0 with 21969 MB memory:  -> device: 0, name: GRID P40-24Q, pci bus id: 0000:02:00.0, compute capability: 6.1\n"
     ]
    },
    {
     "name": "stdout",
     "output_type": "stream",
     "text": [
      "Model: \"autoencoder\"\n",
      "_________________________________________________________________\n",
      " Layer (type)                Output Shape              Param #   \n",
      "=================================================================\n",
      " input_3 (InputLayer)        [(None, 12000, 3)]        0         \n",
      "                                                                 \n",
      " encoder (Functional)        (None, 666)               8521      \n",
      "                                                                 \n",
      " decoder (Functional)        (None, 12000, 3)          1341843   \n",
      "                                                                 \n",
      "=================================================================\n",
      "Total params: 1,350,364\n",
      "Trainable params: 1,349,960\n",
      "Non-trainable params: 404\n",
      "_________________________________________________________________\n"
     ]
    }
   ],
   "source": [
    "from tensorflow.keras.models import load_model\n",
    "import tensorflow as tf\n",
    "\n",
    "# with tf.device('/CPU:0'):\n",
    "    # 加載 Keras 格式模型\n",
    "autoencoder_model0 = load_model(f'autoencoder_model_{TYPE_DOMAIN}.keras', compile=False)\n",
    "autoencoder_model0.summary()"
   ]
  },
  {
   "cell_type": "code",
   "execution_count": 9,
   "metadata": {},
   "outputs": [
    {
     "name": "stdout",
     "output_type": "stream",
     "text": [
      "Model: \"encoder\"\n",
      "_________________________________________________________________\n",
      " Layer (type)                Output Shape              Param #   \n",
      "=================================================================\n",
      " input_1 (InputLayer)        [(None, 12000, 3)]        0         \n",
      "                                                                 \n",
      " conv1d (Conv1D)             (None, 12000, 127)        1270      \n",
      "                                                                 \n",
      " batch_normalization (BatchN  (None, 12000, 127)       508       \n",
      " ormalization)                                                   \n",
      "                                                                 \n",
      " re_lu (ReLU)                (None, 12000, 127)        0         \n",
      "                                                                 \n",
      " max_pooling1d (MaxPooling1D  (None, 4000, 127)        0         \n",
      " )                                                               \n",
      "                                                                 \n",
      " conv1d_1 (Conv1D)           (None, 4000, 11)          4202      \n",
      "                                                                 \n",
      " batch_normalization_1 (Batc  (None, 4000, 11)         44        \n",
      " hNormalization)                                                 \n",
      "                                                                 \n",
      " re_lu_1 (ReLU)              (None, 4000, 11)          0         \n",
      "                                                                 \n",
      " max_pooling1d_1 (MaxPooling  (None, 1333, 11)         0         \n",
      " 1D)                                                             \n",
      "                                                                 \n",
      " conv1d_2 (Conv1D)           (None, 1333, 64)          2176      \n",
      "                                                                 \n",
      " batch_normalization_2 (Batc  (None, 1333, 64)         256       \n",
      " hNormalization)                                                 \n",
      "                                                                 \n",
      " re_lu_2 (ReLU)              (None, 1333, 64)          0         \n",
      "                                                                 \n",
      " max_pooling1d_2 (MaxPooling  (None, 666, 64)          0         \n",
      " 1D)                                                             \n",
      "                                                                 \n",
      " conv1d_3 (Conv1D)           (None, 666, 1)            65        \n",
      "                                                                 \n",
      " flatten (Flatten)           (None, 666)               0         \n",
      "                                                                 \n",
      "=================================================================\n",
      "Total params: 8,521\n",
      "Trainable params: 8,117\n",
      "Non-trainable params: 404\n",
      "_________________________________________________________________\n",
      "Model: \"decoder\"\n",
      "_________________________________________________________________\n",
      " Layer (type)                Output Shape              Param #   \n",
      "=================================================================\n",
      " input_2 (InputLayer)        [(None, 666)]             0         \n",
      "                                                                 \n",
      " dense (Dense)               (None, 2000)              1334000   \n",
      "                                                                 \n",
      " reshape (Reshape)           (None, 2000, 1)           0         \n",
      "                                                                 \n",
      " conv1d_transpose (Conv1DTra  (None, 2000, 64)         256       \n",
      " nspose)                                                         \n",
      "                                                                 \n",
      " re_lu_3 (ReLU)              (None, 2000, 64)          0         \n",
      "                                                                 \n",
      " up_sampling1d (UpSampling1D  (None, 4000, 64)         0         \n",
      " )                                                               \n",
      "                                                                 \n",
      " conv1d_transpose_1 (Conv1DT  (None, 4000, 11)         2123      \n",
      " ranspose)                                                       \n",
      "                                                                 \n",
      " re_lu_4 (ReLU)              (None, 4000, 11)          0         \n",
      "                                                                 \n",
      " up_sampling1d_1 (UpSampling  (None, 12000, 11)        0         \n",
      " 1D)                                                             \n",
      "                                                                 \n",
      " conv1d_transpose_2 (Conv1DT  (None, 12000, 127)       4318      \n",
      " ranspose)                                                       \n",
      "                                                                 \n",
      " re_lu_5 (ReLU)              (None, 12000, 127)        0         \n",
      "                                                                 \n",
      " conv1d_transpose_3 (Conv1DT  (None, 12000, 3)         1146      \n",
      " ranspose)                                                       \n",
      "                                                                 \n",
      "=================================================================\n",
      "Total params: 1,341,843\n",
      "Trainable params: 1,341,843\n",
      "Non-trainable params: 0\n",
      "_________________________________________________________________\n"
     ]
    }
   ],
   "source": [
    "encoder_model = autoencoder_model0.get_layer('encoder')\n",
    "encoder_model.summary()\n",
    "decoder_model = autoencoder_model0.get_layer('decoder')\n",
    "decoder_model.summary()"
   ]
  },
  {
   "cell_type": "code",
   "execution_count": 10,
   "metadata": {},
   "outputs": [],
   "source": [
    "# with tf.device('/GPU:0'): \n",
    "#     encoder_model = autoencoder_model0.get_layer('encoder')\n",
    "#     encoder_model.summary()\n",
    "# with tf.device('/GPU:0'):\n",
    "#     decoder_model = autoencoder_model0.get_layer('decoder')\n",
    "#     decoder_model.summary()"
   ]
  },
  {
   "cell_type": "code",
   "execution_count": 11,
   "metadata": {},
   "outputs": [],
   "source": [
    "# with tf.device('/CPU:0'):\n",
    "#     # 提取 encoder 層\n",
    "#     encoder_model = autoencoder_model0.get_layer('encoder')\n",
    "#     # 檢查 encoder model 的架構\n",
    "#     encoder_model.summary()\n",
    "#     # 使用 encoder 進行推理\n",
    "#     # encoded_output = encoder_model.predict(X_bad)\n",
    "\n",
    "# with tf.device('/CPU:0'):\n",
    "#     decoder_model = autoencoder_model0.get_layer('decoder')\n",
    "#     # 檢查 decoder model 的架構\n",
    "#     decoder_model.summary()"
   ]
  },
  {
   "cell_type": "code",
   "execution_count": 12,
   "metadata": {},
   "outputs": [
    {
     "data": {
      "text/plain": [
       "666"
      ]
     },
     "execution_count": 12,
     "metadata": {},
     "output_type": "execute_result"
    }
   ],
   "source": [
    "decoder_model.input_shape[1]"
   ]
  },
  {
   "cell_type": "code",
   "execution_count": 13,
   "metadata": {},
   "outputs": [],
   "source": [
    "# from tensorflow.keras import layers, models\n",
    "\n",
    "# autoencoder = models.Sequential([\n",
    "#     encoder_model,\n",
    "#     layers.Dense(128, activation='relu'),\n",
    "#     layers.Dense(64, activation='relu'),\n",
    "#     layers.Dense(128, activation='relu'),\n",
    "#     layers.Dense(decoder_model.input_shape[1], activation='linear'),\n",
    "#     decoder_model\n",
    "# ])\n",
    "# autoencoder.summary()"
   ]
  },
  {
   "cell_type": "code",
   "execution_count": 14,
   "metadata": {},
   "outputs": [
    {
     "name": "stderr",
     "output_type": "stream",
     "text": [
      "2025-01-19 19:03:07.748177: W tensorflow/tsl/framework/cpu_allocator_impl.cc:82] Allocation of 1979712000 exceeds 10% of free system memory.\n",
      "2025-01-19 19:03:11.063757: W tensorflow/tsl/framework/cpu_allocator_impl.cc:82] Allocation of 1979712000 exceeds 10% of free system memory.\n",
      "2025-01-19 19:03:13.302760: W tensorflow/tsl/framework/cpu_allocator_impl.cc:82] Allocation of 1979712000 exceeds 10% of free system memory.\n",
      "2025-01-19 19:03:15.194966: W tensorflow/tsl/framework/cpu_allocator_impl.cc:82] Allocation of 1979712000 exceeds 10% of free system memory.\n"
     ]
    },
    {
     "name": "stdout",
     "output_type": "stream",
     "text": [
      "Epoch 1/100\n"
     ]
    },
    {
     "name": "stderr",
     "output_type": "stream",
     "text": [
      "2025-01-19 19:05:44.063174: I tensorflow/compiler/xla/stream_executor/cuda/cuda_dnn.cc:428] Loaded cuDNN version 8101\n",
      "2025-01-19 19:05:44.805196: I tensorflow/compiler/xla/service/service.cc:173] XLA service 0x300efcf0 initialized for platform CUDA (this does not guarantee that XLA will be used). Devices:\n",
      "2025-01-19 19:05:44.805261: I tensorflow/compiler/xla/service/service.cc:181]   StreamExecutor device (0): GRID P40-24Q, Compute Capability 6.1\n",
      "2025-01-19 19:05:44.811541: I tensorflow/compiler/mlir/tensorflow/utils/dump_mlir_util.cc:268] disabling MLIR crash reproducer, set env var `MLIR_CRASH_REPRODUCER_DIRECTORY` to enable.\n",
      "2025-01-19 19:05:44.932332: I tensorflow/compiler/jit/xla_compilation_cache.cc:477] Compiled cluster using XLA!  This line is logged at most once for the lifetime of the process.\n"
     ]
    },
    {
     "name": "stdout",
     "output_type": "stream",
     "text": [
      "860/860 [==============================] - 239s 103ms/step - loss: 70103.7109 - val_loss: 78505.8281\n",
      "Epoch 2/100\n",
      "860/860 [==============================] - 84s 98ms/step - loss: 62025.8281 - val_loss: 75426.2188\n",
      "Epoch 3/100\n",
      "860/860 [==============================] - 86s 100ms/step - loss: 60099.4141 - val_loss: 74917.3359\n",
      "Epoch 4/100\n",
      "860/860 [==============================] - 87s 102ms/step - loss: 58995.8203 - val_loss: 73910.1719\n",
      "Epoch 5/100\n",
      "860/860 [==============================] - 87s 101ms/step - loss: 58174.2422 - val_loss: 73305.0078\n",
      "Epoch 6/100\n",
      "860/860 [==============================] - 86s 101ms/step - loss: 57561.3477 - val_loss: 73022.8047\n",
      "Epoch 7/100\n",
      "860/860 [==============================] - 87s 101ms/step - loss: 57024.9492 - val_loss: 72673.2891\n",
      "Epoch 8/100\n",
      "860/860 [==============================] - 87s 101ms/step - loss: 56634.4336 - val_loss: 72468.9453\n",
      "Epoch 9/100\n",
      "860/860 [==============================] - 87s 101ms/step - loss: 56174.0781 - val_loss: 72423.7422\n",
      "Epoch 10/100\n",
      "860/860 [==============================] - 87s 102ms/step - loss: 55797.9688 - val_loss: 72122.6484\n",
      "Epoch 11/100\n",
      "860/860 [==============================] - 86s 100ms/step - loss: 55457.8398 - val_loss: 71764.2344\n",
      "Epoch 12/100\n",
      "860/860 [==============================] - 84s 97ms/step - loss: 55196.6719 - val_loss: 71672.7969\n",
      "Epoch 13/100\n",
      "860/860 [==============================] - 83s 97ms/step - loss: 54887.1602 - val_loss: 71787.5703\n",
      "Epoch 14/100\n",
      "860/860 [==============================] - 83s 96ms/step - loss: 54587.4141 - val_loss: 72088.9922\n",
      "Epoch 15/100\n",
      "860/860 [==============================] - 84s 98ms/step - loss: 54329.6836 - val_loss: 72070.2188\n",
      "Epoch 16/100\n",
      "860/860 [==============================] - 84s 97ms/step - loss: 54092.5781 - val_loss: 71128.6172\n",
      "Epoch 17/100\n",
      "860/860 [==============================] - 85s 98ms/step - loss: 53863.3086 - val_loss: 70974.0625\n",
      "Epoch 18/100\n",
      "860/860 [==============================] - 87s 101ms/step - loss: 53585.2344 - val_loss: 71056.2578\n",
      "Epoch 19/100\n",
      "860/860 [==============================] - 86s 100ms/step - loss: 53381.4453 - val_loss: 70939.7344\n",
      "Epoch 20/100\n",
      "860/860 [==============================] - 86s 100ms/step - loss: 53189.2344 - val_loss: 71139.1953\n",
      "Epoch 21/100\n",
      "860/860 [==============================] - 87s 101ms/step - loss: 52933.7500 - val_loss: 70472.2109\n",
      "Epoch 22/100\n",
      "860/860 [==============================] - 87s 101ms/step - loss: 52801.7734 - val_loss: 70240.8438\n",
      "Epoch 23/100\n",
      "860/860 [==============================] - 86s 100ms/step - loss: 52606.0859 - val_loss: 70336.3281\n",
      "Epoch 24/100\n",
      "860/860 [==============================] - 86s 101ms/step - loss: 52452.4141 - val_loss: 70554.4688\n",
      "Epoch 25/100\n",
      "860/860 [==============================] - 88s 102ms/step - loss: 52314.5352 - val_loss: 69851.3125\n",
      "Epoch 26/100\n",
      "860/860 [==============================] - 88s 103ms/step - loss: 52158.8320 - val_loss: 69622.7656\n",
      "Epoch 27/100\n",
      "860/860 [==============================] - 86s 100ms/step - loss: 52007.9844 - val_loss: 69624.5703\n",
      "Epoch 28/100\n",
      "860/860 [==============================] - 86s 100ms/step - loss: 51918.8320 - val_loss: 69589.8047\n",
      "Epoch 29/100\n",
      "860/860 [==============================] - 86s 100ms/step - loss: 51742.8438 - val_loss: 69517.8516\n",
      "Epoch 30/100\n",
      "860/860 [==============================] - 85s 98ms/step - loss: 51611.3320 - val_loss: 69662.0078\n",
      "Epoch 31/100\n",
      "860/860 [==============================] - 84s 97ms/step - loss: 51496.5195 - val_loss: 69531.9219\n",
      "Epoch 32/100\n",
      "860/860 [==============================] - 83s 97ms/step - loss: 51413.5781 - val_loss: 70022.5078\n",
      "Epoch 33/100\n",
      "860/860 [==============================] - 84s 97ms/step - loss: 51286.8125 - val_loss: 69150.2812\n",
      "Epoch 34/100\n",
      "860/860 [==============================] - 84s 98ms/step - loss: 51193.9336 - val_loss: 69028.2031\n",
      "Epoch 35/100\n",
      "860/860 [==============================] - 83s 96ms/step - loss: 51020.0195 - val_loss: 69154.6406\n",
      "Epoch 36/100\n",
      "860/860 [==============================] - 84s 98ms/step - loss: 50932.4023 - val_loss: 69117.0000\n",
      "Epoch 37/100\n",
      "860/860 [==============================] - 84s 98ms/step - loss: 50888.2070 - val_loss: 69043.3203\n",
      "Epoch 38/100\n",
      "860/860 [==============================] - 84s 98ms/step - loss: 50721.1406 - val_loss: 68706.0000\n",
      "Epoch 39/100\n",
      "860/860 [==============================] - 84s 98ms/step - loss: 50662.7930 - val_loss: 68540.9375\n",
      "Epoch 40/100\n",
      "860/860 [==============================] - 84s 98ms/step - loss: 50549.9922 - val_loss: 68964.5391\n",
      "Epoch 41/100\n",
      "860/860 [==============================] - 86s 100ms/step - loss: 50427.9219 - val_loss: 68243.8516\n",
      "Epoch 42/100\n",
      "860/860 [==============================] - 84s 98ms/step - loss: 50381.6992 - val_loss: 68208.5703\n",
      "Epoch 43/100\n",
      "860/860 [==============================] - 84s 98ms/step - loss: 50273.0664 - val_loss: 68365.5547\n",
      "Epoch 44/100\n",
      "860/860 [==============================] - 84s 98ms/step - loss: 50212.6445 - val_loss: 68282.3516\n",
      "Epoch 45/100\n",
      "860/860 [==============================] - 84s 97ms/step - loss: 50125.3281 - val_loss: 68094.5469\n",
      "Epoch 46/100\n",
      "860/860 [==============================] - 84s 98ms/step - loss: 50018.4727 - val_loss: 68056.3203\n",
      "Epoch 47/100\n",
      "860/860 [==============================] - 86s 100ms/step - loss: 50003.6211 - val_loss: 68100.5859\n",
      "Epoch 48/100\n",
      "860/860 [==============================] - 84s 98ms/step - loss: 49915.0547 - val_loss: 68106.2188\n",
      "Epoch 49/100\n",
      "860/860 [==============================] - 84s 98ms/step - loss: 49799.0391 - val_loss: 68275.7812\n",
      "Epoch 50/100\n",
      "860/860 [==============================] - 85s 99ms/step - loss: 49771.6484 - val_loss: 67764.2578\n",
      "Epoch 51/100\n",
      "860/860 [==============================] - 84s 98ms/step - loss: 49671.3867 - val_loss: 67765.4766\n",
      "Epoch 52/100\n",
      "860/860 [==============================] - 84s 98ms/step - loss: 49658.6797 - val_loss: 67983.6484\n",
      "Epoch 53/100\n",
      "860/860 [==============================] - 85s 98ms/step - loss: 49572.6289 - val_loss: 67548.8984\n",
      "Epoch 54/100\n",
      "860/860 [==============================] - 84s 98ms/step - loss: 49435.1875 - val_loss: 67798.0938\n",
      "Epoch 55/100\n",
      "860/860 [==============================] - 86s 99ms/step - loss: 49436.0820 - val_loss: 67515.4375\n",
      "Epoch 56/100\n",
      "860/860 [==============================] - 86s 100ms/step - loss: 49367.5703 - val_loss: 68023.3359\n",
      "Epoch 57/100\n",
      "860/860 [==============================] - 85s 99ms/step - loss: 49309.2539 - val_loss: 68004.8516\n",
      "Epoch 58/100\n",
      "860/860 [==============================] - 86s 100ms/step - loss: 49244.1562 - val_loss: 67955.2422\n",
      "Epoch 59/100\n",
      "860/860 [==============================] - 86s 100ms/step - loss: 49195.7773 - val_loss: 67343.9453\n",
      "Epoch 60/100\n",
      "860/860 [==============================] - 86s 100ms/step - loss: 49141.1875 - val_loss: 67248.5625\n",
      "Epoch 61/100\n",
      "860/860 [==============================] - 86s 100ms/step - loss: 49064.8477 - val_loss: 67492.8047\n",
      "Epoch 62/100\n",
      "860/860 [==============================] - 86s 100ms/step - loss: 49020.1367 - val_loss: 67432.9141\n",
      "Epoch 63/100\n",
      "860/860 [==============================] - 86s 100ms/step - loss: 49005.8555 - val_loss: 67278.1406\n",
      "Epoch 64/100\n",
      "860/860 [==============================] - 85s 99ms/step - loss: 48921.9336 - val_loss: 67050.1328\n",
      "Epoch 65/100\n",
      "860/860 [==============================] - 87s 101ms/step - loss: 48872.9414 - val_loss: 67062.4609\n",
      "Epoch 66/100\n",
      "860/860 [==============================] - 86s 100ms/step - loss: 48840.3320 - val_loss: 67242.2266\n",
      "Epoch 67/100\n",
      " 36/860 [>.............................] - ETA: 1:18 - loss: 48296.6055"
     ]
    },
    {
     "ename": "KeyboardInterrupt",
     "evalue": "",
     "output_type": "error",
     "traceback": [
      "\u001b[0;31m---------------------------------------------------------------------------\u001b[0m",
      "\u001b[0;31mKeyboardInterrupt\u001b[0m                         Traceback (most recent call last)",
      "Cell \u001b[0;32mIn[14], line 48\u001b[0m\n\u001b[1;32m     39\u001b[0m autoencoder \u001b[38;5;241m=\u001b[39m models\u001b[38;5;241m.\u001b[39mSequential([\n\u001b[1;32m     40\u001b[0m     encoder_model,\n\u001b[1;32m     41\u001b[0m     layers\u001b[38;5;241m.\u001b[39mDense(\u001b[38;5;241m128\u001b[39m, activation\u001b[38;5;241m=\u001b[39m\u001b[38;5;124m'\u001b[39m\u001b[38;5;124mrelu\u001b[39m\u001b[38;5;124m'\u001b[39m),\n\u001b[0;32m   (...)\u001b[0m\n\u001b[1;32m     45\u001b[0m     decoder_model\n\u001b[1;32m     46\u001b[0m ])\n\u001b[1;32m     47\u001b[0m autoencoder\u001b[38;5;241m.\u001b[39mcompile(optimizer\u001b[38;5;241m=\u001b[39m\u001b[38;5;124m'\u001b[39m\u001b[38;5;124madam\u001b[39m\u001b[38;5;124m'\u001b[39m, loss\u001b[38;5;241m=\u001b[39m\u001b[38;5;124m'\u001b[39m\u001b[38;5;124mmse\u001b[39m\u001b[38;5;124m'\u001b[39m)\n\u001b[0;32m---> 48\u001b[0m history \u001b[38;5;241m=\u001b[39m \u001b[43mautoencoder\u001b[49m\u001b[38;5;241;43m.\u001b[39;49m\u001b[43mfit\u001b[49m\u001b[43m(\u001b[49m\n\u001b[1;32m     49\u001b[0m \u001b[43m    \u001b[49m\u001b[43mX_train\u001b[49m\u001b[43m,\u001b[49m\u001b[43m \u001b[49m\n\u001b[1;32m     50\u001b[0m \u001b[43m    \u001b[49m\u001b[43mX_train\u001b[49m\u001b[43m,\u001b[49m\u001b[43m \u001b[49m\n\u001b[1;32m     51\u001b[0m \u001b[43m    \u001b[49m\u001b[43mepochs\u001b[49m\u001b[38;5;241;43m=\u001b[39;49m\u001b[38;5;241;43m100\u001b[39;49m\u001b[43m,\u001b[49m\u001b[43m \u001b[49m\n\u001b[1;32m     52\u001b[0m \u001b[43m    \u001b[49m\u001b[43mbatch_size\u001b[49m\u001b[38;5;241;43m=\u001b[39;49m\u001b[38;5;241;43m16\u001b[39;49m\u001b[43m,\u001b[49m\u001b[43m \u001b[49m\n\u001b[1;32m     53\u001b[0m \u001b[43m    \u001b[49m\u001b[43mshuffle\u001b[49m\u001b[38;5;241;43m=\u001b[39;49m\u001b[38;5;28;43;01mTrue\u001b[39;49;00m\u001b[43m,\u001b[49m\u001b[43m \u001b[49m\n\u001b[1;32m     54\u001b[0m \u001b[43m    \u001b[49m\u001b[43mvalidation_split\u001b[49m\u001b[38;5;241;43m=\u001b[39;49m\u001b[38;5;241;43m0.2\u001b[39;49m\u001b[43m,\u001b[49m\u001b[43m \u001b[49m\n\u001b[1;32m     55\u001b[0m \u001b[43m    \u001b[49m\u001b[43mcallbacks\u001b[49m\u001b[38;5;241;43m=\u001b[39;49m\u001b[43m[\u001b[49m\u001b[43mearly_stop\u001b[49m\u001b[43m]\u001b[49m\u001b[43m  \u001b[49m\u001b[38;5;66;43;03m# 加入 Early Stopping\u001b[39;49;00m\n\u001b[1;32m     56\u001b[0m \u001b[43m)\u001b[49m\n\u001b[1;32m     57\u001b[0m reconstructions \u001b[38;5;241m=\u001b[39m autoencoder\u001b[38;5;241m.\u001b[39mpredict(X_test)\n\u001b[1;32m     58\u001b[0m autoencoder_scores \u001b[38;5;241m=\u001b[39m np\u001b[38;5;241m.\u001b[39mmean(np\u001b[38;5;241m.\u001b[39msquare(X_test \u001b[38;5;241m-\u001b[39m reconstructions), axis\u001b[38;5;241m=\u001b[39m\u001b[38;5;241m1\u001b[39m)\n",
      "File \u001b[0;32m~/vad-code/.conda/lib/python3.10/site-packages/keras/utils/traceback_utils.py:65\u001b[0m, in \u001b[0;36mfilter_traceback.<locals>.error_handler\u001b[0;34m(*args, **kwargs)\u001b[0m\n\u001b[1;32m     63\u001b[0m filtered_tb \u001b[38;5;241m=\u001b[39m \u001b[38;5;28;01mNone\u001b[39;00m\n\u001b[1;32m     64\u001b[0m \u001b[38;5;28;01mtry\u001b[39;00m:\n\u001b[0;32m---> 65\u001b[0m     \u001b[38;5;28;01mreturn\u001b[39;00m \u001b[43mfn\u001b[49m\u001b[43m(\u001b[49m\u001b[38;5;241;43m*\u001b[39;49m\u001b[43margs\u001b[49m\u001b[43m,\u001b[49m\u001b[43m \u001b[49m\u001b[38;5;241;43m*\u001b[39;49m\u001b[38;5;241;43m*\u001b[39;49m\u001b[43mkwargs\u001b[49m\u001b[43m)\u001b[49m\n\u001b[1;32m     66\u001b[0m \u001b[38;5;28;01mexcept\u001b[39;00m \u001b[38;5;167;01mException\u001b[39;00m \u001b[38;5;28;01mas\u001b[39;00m e:\n\u001b[1;32m     67\u001b[0m     filtered_tb \u001b[38;5;241m=\u001b[39m _process_traceback_frames(e\u001b[38;5;241m.\u001b[39m__traceback__)\n",
      "File \u001b[0;32m~/vad-code/.conda/lib/python3.10/site-packages/keras/engine/training.py:1650\u001b[0m, in \u001b[0;36mModel.fit\u001b[0;34m(self, x, y, batch_size, epochs, verbose, callbacks, validation_split, validation_data, shuffle, class_weight, sample_weight, initial_epoch, steps_per_epoch, validation_steps, validation_batch_size, validation_freq, max_queue_size, workers, use_multiprocessing)\u001b[0m\n\u001b[1;32m   1642\u001b[0m \u001b[38;5;28;01mwith\u001b[39;00m tf\u001b[38;5;241m.\u001b[39mprofiler\u001b[38;5;241m.\u001b[39mexperimental\u001b[38;5;241m.\u001b[39mTrace(\n\u001b[1;32m   1643\u001b[0m     \u001b[38;5;124m\"\u001b[39m\u001b[38;5;124mtrain\u001b[39m\u001b[38;5;124m\"\u001b[39m,\n\u001b[1;32m   1644\u001b[0m     epoch_num\u001b[38;5;241m=\u001b[39mepoch,\n\u001b[0;32m   (...)\u001b[0m\n\u001b[1;32m   1647\u001b[0m     _r\u001b[38;5;241m=\u001b[39m\u001b[38;5;241m1\u001b[39m,\n\u001b[1;32m   1648\u001b[0m ):\n\u001b[1;32m   1649\u001b[0m     callbacks\u001b[38;5;241m.\u001b[39mon_train_batch_begin(step)\n\u001b[0;32m-> 1650\u001b[0m     tmp_logs \u001b[38;5;241m=\u001b[39m \u001b[38;5;28;43mself\u001b[39;49m\u001b[38;5;241;43m.\u001b[39;49m\u001b[43mtrain_function\u001b[49m\u001b[43m(\u001b[49m\u001b[43miterator\u001b[49m\u001b[43m)\u001b[49m\n\u001b[1;32m   1651\u001b[0m     \u001b[38;5;28;01mif\u001b[39;00m data_handler\u001b[38;5;241m.\u001b[39mshould_sync:\n\u001b[1;32m   1652\u001b[0m         context\u001b[38;5;241m.\u001b[39masync_wait()\n",
      "File \u001b[0;32m~/vad-code/.conda/lib/python3.10/site-packages/tensorflow/python/util/traceback_utils.py:150\u001b[0m, in \u001b[0;36mfilter_traceback.<locals>.error_handler\u001b[0;34m(*args, **kwargs)\u001b[0m\n\u001b[1;32m    148\u001b[0m filtered_tb \u001b[38;5;241m=\u001b[39m \u001b[38;5;28;01mNone\u001b[39;00m\n\u001b[1;32m    149\u001b[0m \u001b[38;5;28;01mtry\u001b[39;00m:\n\u001b[0;32m--> 150\u001b[0m   \u001b[38;5;28;01mreturn\u001b[39;00m \u001b[43mfn\u001b[49m\u001b[43m(\u001b[49m\u001b[38;5;241;43m*\u001b[39;49m\u001b[43margs\u001b[49m\u001b[43m,\u001b[49m\u001b[43m \u001b[49m\u001b[38;5;241;43m*\u001b[39;49m\u001b[38;5;241;43m*\u001b[39;49m\u001b[43mkwargs\u001b[49m\u001b[43m)\u001b[49m\n\u001b[1;32m    151\u001b[0m \u001b[38;5;28;01mexcept\u001b[39;00m \u001b[38;5;167;01mException\u001b[39;00m \u001b[38;5;28;01mas\u001b[39;00m e:\n\u001b[1;32m    152\u001b[0m   filtered_tb \u001b[38;5;241m=\u001b[39m _process_traceback_frames(e\u001b[38;5;241m.\u001b[39m__traceback__)\n",
      "File \u001b[0;32m~/vad-code/.conda/lib/python3.10/site-packages/tensorflow/python/eager/polymorphic_function/polymorphic_function.py:880\u001b[0m, in \u001b[0;36mFunction.__call__\u001b[0;34m(self, *args, **kwds)\u001b[0m\n\u001b[1;32m    877\u001b[0m compiler \u001b[38;5;241m=\u001b[39m \u001b[38;5;124m\"\u001b[39m\u001b[38;5;124mxla\u001b[39m\u001b[38;5;124m\"\u001b[39m \u001b[38;5;28;01mif\u001b[39;00m \u001b[38;5;28mself\u001b[39m\u001b[38;5;241m.\u001b[39m_jit_compile \u001b[38;5;28;01melse\u001b[39;00m \u001b[38;5;124m\"\u001b[39m\u001b[38;5;124mnonXla\u001b[39m\u001b[38;5;124m\"\u001b[39m\n\u001b[1;32m    879\u001b[0m \u001b[38;5;28;01mwith\u001b[39;00m OptionalXlaContext(\u001b[38;5;28mself\u001b[39m\u001b[38;5;241m.\u001b[39m_jit_compile):\n\u001b[0;32m--> 880\u001b[0m   result \u001b[38;5;241m=\u001b[39m \u001b[38;5;28;43mself\u001b[39;49m\u001b[38;5;241;43m.\u001b[39;49m\u001b[43m_call\u001b[49m\u001b[43m(\u001b[49m\u001b[38;5;241;43m*\u001b[39;49m\u001b[43margs\u001b[49m\u001b[43m,\u001b[49m\u001b[43m \u001b[49m\u001b[38;5;241;43m*\u001b[39;49m\u001b[38;5;241;43m*\u001b[39;49m\u001b[43mkwds\u001b[49m\u001b[43m)\u001b[49m\n\u001b[1;32m    882\u001b[0m new_tracing_count \u001b[38;5;241m=\u001b[39m \u001b[38;5;28mself\u001b[39m\u001b[38;5;241m.\u001b[39mexperimental_get_tracing_count()\n\u001b[1;32m    883\u001b[0m without_tracing \u001b[38;5;241m=\u001b[39m (tracing_count \u001b[38;5;241m==\u001b[39m new_tracing_count)\n",
      "File \u001b[0;32m~/vad-code/.conda/lib/python3.10/site-packages/tensorflow/python/eager/polymorphic_function/polymorphic_function.py:912\u001b[0m, in \u001b[0;36mFunction._call\u001b[0;34m(self, *args, **kwds)\u001b[0m\n\u001b[1;32m    909\u001b[0m   \u001b[38;5;28mself\u001b[39m\u001b[38;5;241m.\u001b[39m_lock\u001b[38;5;241m.\u001b[39mrelease()\n\u001b[1;32m    910\u001b[0m   \u001b[38;5;66;03m# In this case we have created variables on the first call, so we run the\u001b[39;00m\n\u001b[1;32m    911\u001b[0m   \u001b[38;5;66;03m# defunned version which is guaranteed to never create variables.\u001b[39;00m\n\u001b[0;32m--> 912\u001b[0m   \u001b[38;5;28;01mreturn\u001b[39;00m \u001b[38;5;28;43mself\u001b[39;49m\u001b[38;5;241;43m.\u001b[39;49m\u001b[43m_no_variable_creation_fn\u001b[49m\u001b[43m(\u001b[49m\u001b[38;5;241;43m*\u001b[39;49m\u001b[43margs\u001b[49m\u001b[43m,\u001b[49m\u001b[43m \u001b[49m\u001b[38;5;241;43m*\u001b[39;49m\u001b[38;5;241;43m*\u001b[39;49m\u001b[43mkwds\u001b[49m\u001b[43m)\u001b[49m  \u001b[38;5;66;03m# pylint: disable=not-callable\u001b[39;00m\n\u001b[1;32m    913\u001b[0m \u001b[38;5;28;01melif\u001b[39;00m \u001b[38;5;28mself\u001b[39m\u001b[38;5;241m.\u001b[39m_variable_creation_fn \u001b[38;5;129;01mis\u001b[39;00m \u001b[38;5;129;01mnot\u001b[39;00m \u001b[38;5;28;01mNone\u001b[39;00m:\n\u001b[1;32m    914\u001b[0m   \u001b[38;5;66;03m# Release the lock early so that multiple threads can perform the call\u001b[39;00m\n\u001b[1;32m    915\u001b[0m   \u001b[38;5;66;03m# in parallel.\u001b[39;00m\n\u001b[1;32m    916\u001b[0m   \u001b[38;5;28mself\u001b[39m\u001b[38;5;241m.\u001b[39m_lock\u001b[38;5;241m.\u001b[39mrelease()\n",
      "File \u001b[0;32m~/vad-code/.conda/lib/python3.10/site-packages/tensorflow/python/eager/polymorphic_function/tracing_compiler.py:134\u001b[0m, in \u001b[0;36mTracingCompiler.__call__\u001b[0;34m(self, *args, **kwargs)\u001b[0m\n\u001b[1;32m    131\u001b[0m \u001b[38;5;28;01mwith\u001b[39;00m \u001b[38;5;28mself\u001b[39m\u001b[38;5;241m.\u001b[39m_lock:\n\u001b[1;32m    132\u001b[0m   (concrete_function,\n\u001b[1;32m    133\u001b[0m    filtered_flat_args) \u001b[38;5;241m=\u001b[39m \u001b[38;5;28mself\u001b[39m\u001b[38;5;241m.\u001b[39m_maybe_define_function(args, kwargs)\n\u001b[0;32m--> 134\u001b[0m \u001b[38;5;28;01mreturn\u001b[39;00m \u001b[43mconcrete_function\u001b[49m\u001b[38;5;241;43m.\u001b[39;49m\u001b[43m_call_flat\u001b[49m\u001b[43m(\u001b[49m\n\u001b[1;32m    135\u001b[0m \u001b[43m    \u001b[49m\u001b[43mfiltered_flat_args\u001b[49m\u001b[43m,\u001b[49m\u001b[43m \u001b[49m\u001b[43mcaptured_inputs\u001b[49m\u001b[38;5;241;43m=\u001b[39;49m\u001b[43mconcrete_function\u001b[49m\u001b[38;5;241;43m.\u001b[39;49m\u001b[43mcaptured_inputs\u001b[49m\u001b[43m)\u001b[49m\n",
      "File \u001b[0;32m~/vad-code/.conda/lib/python3.10/site-packages/tensorflow/python/eager/polymorphic_function/monomorphic_function.py:1745\u001b[0m, in \u001b[0;36mConcreteFunction._call_flat\u001b[0;34m(self, args, captured_inputs, cancellation_manager)\u001b[0m\n\u001b[1;32m   1741\u001b[0m possible_gradient_type \u001b[38;5;241m=\u001b[39m gradients_util\u001b[38;5;241m.\u001b[39mPossibleTapeGradientTypes(args)\n\u001b[1;32m   1742\u001b[0m \u001b[38;5;28;01mif\u001b[39;00m (possible_gradient_type \u001b[38;5;241m==\u001b[39m gradients_util\u001b[38;5;241m.\u001b[39mPOSSIBLE_GRADIENT_TYPES_NONE\n\u001b[1;32m   1743\u001b[0m     \u001b[38;5;129;01mand\u001b[39;00m executing_eagerly):\n\u001b[1;32m   1744\u001b[0m   \u001b[38;5;66;03m# No tape is watching; skip to running the function.\u001b[39;00m\n\u001b[0;32m-> 1745\u001b[0m   \u001b[38;5;28;01mreturn\u001b[39;00m \u001b[38;5;28mself\u001b[39m\u001b[38;5;241m.\u001b[39m_build_call_outputs(\u001b[38;5;28;43mself\u001b[39;49m\u001b[38;5;241;43m.\u001b[39;49m\u001b[43m_inference_function\u001b[49m\u001b[38;5;241;43m.\u001b[39;49m\u001b[43mcall\u001b[49m\u001b[43m(\u001b[49m\n\u001b[1;32m   1746\u001b[0m \u001b[43m      \u001b[49m\u001b[43mctx\u001b[49m\u001b[43m,\u001b[49m\u001b[43m \u001b[49m\u001b[43margs\u001b[49m\u001b[43m,\u001b[49m\u001b[43m \u001b[49m\u001b[43mcancellation_manager\u001b[49m\u001b[38;5;241;43m=\u001b[39;49m\u001b[43mcancellation_manager\u001b[49m\u001b[43m)\u001b[49m)\n\u001b[1;32m   1747\u001b[0m forward_backward \u001b[38;5;241m=\u001b[39m \u001b[38;5;28mself\u001b[39m\u001b[38;5;241m.\u001b[39m_select_forward_and_backward_functions(\n\u001b[1;32m   1748\u001b[0m     args,\n\u001b[1;32m   1749\u001b[0m     possible_gradient_type,\n\u001b[1;32m   1750\u001b[0m     executing_eagerly)\n\u001b[1;32m   1751\u001b[0m forward_function, args_with_tangents \u001b[38;5;241m=\u001b[39m forward_backward\u001b[38;5;241m.\u001b[39mforward()\n",
      "File \u001b[0;32m~/vad-code/.conda/lib/python3.10/site-packages/tensorflow/python/eager/polymorphic_function/monomorphic_function.py:378\u001b[0m, in \u001b[0;36m_EagerDefinedFunction.call\u001b[0;34m(self, ctx, args, cancellation_manager)\u001b[0m\n\u001b[1;32m    376\u001b[0m \u001b[38;5;28;01mwith\u001b[39;00m _InterpolateFunctionError(\u001b[38;5;28mself\u001b[39m):\n\u001b[1;32m    377\u001b[0m   \u001b[38;5;28;01mif\u001b[39;00m cancellation_manager \u001b[38;5;129;01mis\u001b[39;00m \u001b[38;5;28;01mNone\u001b[39;00m:\n\u001b[0;32m--> 378\u001b[0m     outputs \u001b[38;5;241m=\u001b[39m \u001b[43mexecute\u001b[49m\u001b[38;5;241;43m.\u001b[39;49m\u001b[43mexecute\u001b[49m\u001b[43m(\u001b[49m\n\u001b[1;32m    379\u001b[0m \u001b[43m        \u001b[49m\u001b[38;5;28;43mstr\u001b[39;49m\u001b[43m(\u001b[49m\u001b[38;5;28;43mself\u001b[39;49m\u001b[38;5;241;43m.\u001b[39;49m\u001b[43msignature\u001b[49m\u001b[38;5;241;43m.\u001b[39;49m\u001b[43mname\u001b[49m\u001b[43m)\u001b[49m\u001b[43m,\u001b[49m\n\u001b[1;32m    380\u001b[0m \u001b[43m        \u001b[49m\u001b[43mnum_outputs\u001b[49m\u001b[38;5;241;43m=\u001b[39;49m\u001b[38;5;28;43mself\u001b[39;49m\u001b[38;5;241;43m.\u001b[39;49m\u001b[43m_num_outputs\u001b[49m\u001b[43m,\u001b[49m\n\u001b[1;32m    381\u001b[0m \u001b[43m        \u001b[49m\u001b[43minputs\u001b[49m\u001b[38;5;241;43m=\u001b[39;49m\u001b[43margs\u001b[49m\u001b[43m,\u001b[49m\n\u001b[1;32m    382\u001b[0m \u001b[43m        \u001b[49m\u001b[43mattrs\u001b[49m\u001b[38;5;241;43m=\u001b[39;49m\u001b[43mattrs\u001b[49m\u001b[43m,\u001b[49m\n\u001b[1;32m    383\u001b[0m \u001b[43m        \u001b[49m\u001b[43mctx\u001b[49m\u001b[38;5;241;43m=\u001b[39;49m\u001b[43mctx\u001b[49m\u001b[43m)\u001b[49m\n\u001b[1;32m    384\u001b[0m   \u001b[38;5;28;01melse\u001b[39;00m:\n\u001b[1;32m    385\u001b[0m     outputs \u001b[38;5;241m=\u001b[39m execute\u001b[38;5;241m.\u001b[39mexecute_with_cancellation(\n\u001b[1;32m    386\u001b[0m         \u001b[38;5;28mstr\u001b[39m(\u001b[38;5;28mself\u001b[39m\u001b[38;5;241m.\u001b[39msignature\u001b[38;5;241m.\u001b[39mname),\n\u001b[1;32m    387\u001b[0m         num_outputs\u001b[38;5;241m=\u001b[39m\u001b[38;5;28mself\u001b[39m\u001b[38;5;241m.\u001b[39m_num_outputs,\n\u001b[0;32m   (...)\u001b[0m\n\u001b[1;32m    390\u001b[0m         ctx\u001b[38;5;241m=\u001b[39mctx,\n\u001b[1;32m    391\u001b[0m         cancellation_manager\u001b[38;5;241m=\u001b[39mcancellation_manager)\n",
      "File \u001b[0;32m~/vad-code/.conda/lib/python3.10/site-packages/tensorflow/python/eager/execute.py:52\u001b[0m, in \u001b[0;36mquick_execute\u001b[0;34m(op_name, num_outputs, inputs, attrs, ctx, name)\u001b[0m\n\u001b[1;32m     50\u001b[0m \u001b[38;5;28;01mtry\u001b[39;00m:\n\u001b[1;32m     51\u001b[0m   ctx\u001b[38;5;241m.\u001b[39mensure_initialized()\n\u001b[0;32m---> 52\u001b[0m   tensors \u001b[38;5;241m=\u001b[39m \u001b[43mpywrap_tfe\u001b[49m\u001b[38;5;241;43m.\u001b[39;49m\u001b[43mTFE_Py_Execute\u001b[49m\u001b[43m(\u001b[49m\u001b[43mctx\u001b[49m\u001b[38;5;241;43m.\u001b[39;49m\u001b[43m_handle\u001b[49m\u001b[43m,\u001b[49m\u001b[43m \u001b[49m\u001b[43mdevice_name\u001b[49m\u001b[43m,\u001b[49m\u001b[43m \u001b[49m\u001b[43mop_name\u001b[49m\u001b[43m,\u001b[49m\n\u001b[1;32m     53\u001b[0m \u001b[43m                                      \u001b[49m\u001b[43minputs\u001b[49m\u001b[43m,\u001b[49m\u001b[43m \u001b[49m\u001b[43mattrs\u001b[49m\u001b[43m,\u001b[49m\u001b[43m \u001b[49m\u001b[43mnum_outputs\u001b[49m\u001b[43m)\u001b[49m\n\u001b[1;32m     54\u001b[0m \u001b[38;5;28;01mexcept\u001b[39;00m core\u001b[38;5;241m.\u001b[39m_NotOkStatusException \u001b[38;5;28;01mas\u001b[39;00m e:\n\u001b[1;32m     55\u001b[0m   \u001b[38;5;28;01mif\u001b[39;00m name \u001b[38;5;129;01mis\u001b[39;00m \u001b[38;5;129;01mnot\u001b[39;00m \u001b[38;5;28;01mNone\u001b[39;00m:\n",
      "\u001b[0;31mKeyboardInterrupt\u001b[0m: "
     ]
    }
   ],
   "source": [
    "import numpy as np\n",
    "import time\n",
    "import matplotlib.pyplot as plt\n",
    "from sklearn.neighbors import NearestNeighbors, LocalOutlierFactor\n",
    "from sklearn.ensemble import IsolationForest\n",
    "from sklearn.svm import OneClassSVM\n",
    "from sklearn.metrics import (\n",
    "    precision_recall_curve,\n",
    "    roc_curve,\n",
    "    auc,\n",
    "    f1_score\n",
    ")\n",
    "import tensorflow as tf\n",
    "from tensorflow.keras import layers, models\n",
    "\n",
    "\n",
    "# 模擬資料\n",
    "X_test = np.vstack([X_good_test, X_bad])\n",
    "y_test = np.array([0] * len(X_good_test) + [1] * len(X_bad))\n",
    "\n",
    "# 訓練資料（僅正常資料）\n",
    "X_train = X_good_train\n",
    "\n",
    "# 記錄每個模型的結果\n",
    "results = {}\n",
    "\n",
    "from tensorflow.keras.callbacks import EarlyStopping\n",
    "\n",
    "# 定義 Early Stopping\n",
    "early_stop = EarlyStopping(\n",
    "    monitor='val_loss',  # 監控的指標（可以是 'val_loss', 'loss', 或其他 metric）\n",
    "    patience=20,          # 容忍幾個 epoch 無改善\n",
    "    verbose=1,           # 是否顯示早停的訊息\n",
    "    restore_best_weights=True  # 是否恢復為最佳權重\n",
    ")\n",
    "# 訓練 AutoEncoder\n",
    "start_time = time.time()\n",
    "input_dim = X_train.shape[1]\n",
    "autoencoder = models.Sequential([\n",
    "    encoder_model,\n",
    "    layers.Dense(128, activation='relu'),\n",
    "    layers.Dense(64, activation='relu'),\n",
    "    layers.Dense(128, activation='relu'),\n",
    "    layers.Dense(decoder_model.input_shape[1], activation='linear'),\n",
    "    decoder_model\n",
    "])\n",
    "autoencoder.compile(optimizer='adam', loss='mse')\n",
    "history = autoencoder.fit(\n",
    "    X_train, \n",
    "    X_train, \n",
    "    epochs=100, \n",
    "    batch_size=16, \n",
    "    shuffle=True, \n",
    "    validation_split=0.2, \n",
    "    callbacks=[early_stop]  # 加入 Early Stopping\n",
    ")"
   ]
  },
  {
   "cell_type": "code",
   "execution_count": 15,
   "metadata": {},
   "outputs": [
    {
     "ename": "NameError",
     "evalue": "name 'history' is not defined",
     "output_type": "error",
     "traceback": [
      "\u001b[0;31m---------------------------------------------------------------------------\u001b[0m",
      "\u001b[0;31mNameError\u001b[0m                                 Traceback (most recent call last)",
      "Cell \u001b[0;32mIn[15], line 2\u001b[0m\n\u001b[1;32m      1\u001b[0m \u001b[38;5;66;03m# 获取训练过程中的 loss 值\u001b[39;00m\n\u001b[0;32m----> 2\u001b[0m loss_values \u001b[38;5;241m=\u001b[39m \u001b[43mhistory\u001b[49m\u001b[38;5;241m.\u001b[39mhistory[\u001b[38;5;124m'\u001b[39m\u001b[38;5;124mloss\u001b[39m\u001b[38;5;124m'\u001b[39m]\n\u001b[1;32m      3\u001b[0m \u001b[38;5;66;03m# 绘制损失曲线\u001b[39;00m\n\u001b[1;32m      4\u001b[0m plt\u001b[38;5;241m.\u001b[39mplot(\u001b[38;5;28mrange\u001b[39m(\u001b[38;5;241m1\u001b[39m, \u001b[38;5;28mlen\u001b[39m(loss_values) \u001b[38;5;241m+\u001b[39m \u001b[38;5;241m1\u001b[39m), loss_values)\n",
      "\u001b[0;31mNameError\u001b[0m: name 'history' is not defined"
     ]
    }
   ],
   "source": [
    "# 获取训练过程中的 loss 值\n",
    "loss_values = history.history['loss']\n",
    "# 绘制损失曲线\n",
    "plt.plot(range(1, len(loss_values) + 1), loss_values)\n",
    "plt.xlabel('Epochs')\n",
    "plt.ylabel('Loss')\n",
    "plt.title('Loss During Training')\n",
    "plt.grid(True)\n",
    "plt.show()\n",
    "# save the plot to file\n",
    "plt.savefig(f'loss_plot_{TYPE_DOMAIN}_train1.png')"
   ]
  },
  {
   "cell_type": "code",
   "execution_count": 16,
   "metadata": {},
   "outputs": [
    {
     "name": "stdout",
     "output_type": "stream",
     "text": [
      "42/42 [==============================] - 3s 32ms/step\n"
     ]
    }
   ],
   "source": [
    "reconstructions = autoencoder.predict(X_test)\n",
    "autoencoder_scores = np.mean(np.square(X_test - reconstructions), axis=(1,2))\n",
    "results[\"AutoEncoder\"] = {\n",
    "    \"scores\": autoencoder_scores,\n",
    "    \"time\": time.time() - start_time\n",
    "}"
   ]
  },
  {
   "cell_type": "code",
   "execution_count": 19,
   "metadata": {},
   "outputs": [
    {
     "data": {
      "image/png": "[encoded data removed]",
      "text/plain": [
       "<Figure size 1200x600 with 2 Axes>"
      ]
     },
     "metadata": {},
     "output_type": "display_data"
    },
    {
     "name": "stdout",
     "output_type": "stream",
     "text": [
      "AutoEncoder: Best F1-Score: 0.68, Threshold: 62685.96\n",
      "Training time: 5814.63 seconds\n"
     ]
    },
    {
     "data": {
      "text/plain": [
       "<Figure size 640x480 with 0 Axes>"
      ]
     },
     "metadata": {},
     "output_type": "display_data"
    }
   ],
   "source": [
    "# 繪製 PR 曲線和 ROC 曲線\n",
    "plt.figure(figsize=(12, 6))\n",
    "plt.subplot(1, 2, 1)  # PR Curve\n",
    "for model, result in results.items():\n",
    "    precision, recall, _ = precision_recall_curve(y_test, result[\"scores\"])\n",
    "    pr_auc = auc(recall, precision)\n",
    "    plt.plot(recall, precision, label=f\"{model} (AUC: {pr_auc:.2f})\")\n",
    "plt.title(\"PR Curve\")\n",
    "plt.xlabel(\"Recall\")\n",
    "plt.ylabel(\"Precision\")\n",
    "plt.legend()\n",
    "\n",
    "plt.subplot(1, 2, 2)  # ROC Curve\n",
    "for model, result in results.items():\n",
    "    fpr, tpr, _ = roc_curve(y_test, result[\"scores\"])\n",
    "    roc_auc = auc(fpr, tpr)\n",
    "    plt.plot(fpr, tpr, label=f\"{model} (AUC: {roc_auc:.2f})\")\n",
    "plt.title(\"ROC Curve\")\n",
    "plt.xlabel(\"FPR\")\n",
    "plt.ylabel(\"TPR\")\n",
    "plt.legend()\n",
    "plt.tight_layout()\n",
    "plt.show()\n",
    "\n",
    "# 計算 F1-Score 曲線並顯示模型訓練時間\n",
    "for model, result in results.items():\n",
    "    scores = result[\"scores\"]\n",
    "    thresholds = np.linspace(min(scores), max(scores), 100)\n",
    "    f1_scores = [f1_score(y_test, scores >= t) for t in thresholds]\n",
    "    best_threshold = thresholds[np.argmax(f1_scores)]\n",
    "    print(f\"{model}: Best F1-Score: {max(f1_scores):.2f}, Threshold: {best_threshold:.2f}\")\n",
    "    print(f\"Training time: {result['time']:.2f} seconds\")\n",
    "    \n",
    "# Save figures\n",
    "plt.savefig(f\"PR_ROC_curve_{TYPE_DOMAIN}_train1.png\")"
   ]
  },
  {
   "cell_type": "code",
   "execution_count": 26,
   "metadata": {},
   "outputs": [
    {
     "ename": "ValueError",
     "evalue": "Unable to synchronously create dataset (name already exists)",
     "output_type": "error",
     "traceback": [
      "\u001b[0;31m---------------------------------------------------------------------------\u001b[0m",
      "\u001b[0;31mValueError\u001b[0m                                Traceback (most recent call last)",
      "Cell \u001b[0;32mIn[26], line 2\u001b[0m\n\u001b[1;32m      1\u001b[0m \u001b[38;5;66;03m# save the autoencoder model\u001b[39;00m\n\u001b[0;32m----> 2\u001b[0m \u001b[43mautoencoder\u001b[49m\u001b[38;5;241;43m.\u001b[39;49m\u001b[43msave\u001b[49m\u001b[43m(\u001b[49m\u001b[38;5;124;43mf\u001b[39;49m\u001b[38;5;124;43m'\u001b[39;49m\u001b[38;5;124;43mautoencoder_model_\u001b[39;49m\u001b[38;5;132;43;01m{\u001b[39;49;00m\u001b[43mTYPE_DOMAIN\u001b[49m\u001b[38;5;132;43;01m}\u001b[39;49;00m\u001b[38;5;124;43m_train1.keras\u001b[39;49m\u001b[38;5;124;43m'\u001b[39;49m\u001b[43m)\u001b[49m\n",
      "File \u001b[0;32m~/vad-code/.conda/lib/python3.10/site-packages/keras/utils/traceback_utils.py:70\u001b[0m, in \u001b[0;36mfilter_traceback.<locals>.error_handler\u001b[0;34m(*args, **kwargs)\u001b[0m\n\u001b[1;32m     67\u001b[0m     filtered_tb \u001b[38;5;241m=\u001b[39m _process_traceback_frames(e\u001b[38;5;241m.\u001b[39m__traceback__)\n\u001b[1;32m     68\u001b[0m     \u001b[38;5;66;03m# To get the full stack trace, call:\u001b[39;00m\n\u001b[1;32m     69\u001b[0m     \u001b[38;5;66;03m# `tf.debugging.disable_traceback_filtering()`\u001b[39;00m\n\u001b[0;32m---> 70\u001b[0m     \u001b[38;5;28;01mraise\u001b[39;00m e\u001b[38;5;241m.\u001b[39mwith_traceback(filtered_tb) \u001b[38;5;28;01mfrom\u001b[39;00m \u001b[38;5;28;01mNone\u001b[39;00m\n\u001b[1;32m     71\u001b[0m \u001b[38;5;28;01mfinally\u001b[39;00m:\n\u001b[1;32m     72\u001b[0m     \u001b[38;5;28;01mdel\u001b[39;00m filtered_tb\n",
      "File \u001b[0;32m~/vad-code/.conda/lib/python3.10/site-packages/h5py/_hl/group.py:183\u001b[0m, in \u001b[0;36mGroup.create_dataset\u001b[0;34m(self, name, shape, dtype, data, **kwds)\u001b[0m\n\u001b[1;32m    180\u001b[0m         parent_path, name \u001b[38;5;241m=\u001b[39m name\u001b[38;5;241m.\u001b[39mrsplit(\u001b[38;5;124mb\u001b[39m\u001b[38;5;124m'\u001b[39m\u001b[38;5;124m/\u001b[39m\u001b[38;5;124m'\u001b[39m, \u001b[38;5;241m1\u001b[39m)\n\u001b[1;32m    181\u001b[0m         group \u001b[38;5;241m=\u001b[39m \u001b[38;5;28mself\u001b[39m\u001b[38;5;241m.\u001b[39mrequire_group(parent_path)\n\u001b[0;32m--> 183\u001b[0m dsid \u001b[38;5;241m=\u001b[39m \u001b[43mdataset\u001b[49m\u001b[38;5;241;43m.\u001b[39;49m\u001b[43mmake_new_dset\u001b[49m\u001b[43m(\u001b[49m\u001b[43mgroup\u001b[49m\u001b[43m,\u001b[49m\u001b[43m \u001b[49m\u001b[43mshape\u001b[49m\u001b[43m,\u001b[49m\u001b[43m \u001b[49m\u001b[43mdtype\u001b[49m\u001b[43m,\u001b[49m\u001b[43m \u001b[49m\u001b[43mdata\u001b[49m\u001b[43m,\u001b[49m\u001b[43m \u001b[49m\u001b[43mname\u001b[49m\u001b[43m,\u001b[49m\u001b[43m \u001b[49m\u001b[38;5;241;43m*\u001b[39;49m\u001b[38;5;241;43m*\u001b[39;49m\u001b[43mkwds\u001b[49m\u001b[43m)\u001b[49m\n\u001b[1;32m    184\u001b[0m dset \u001b[38;5;241m=\u001b[39m dataset\u001b[38;5;241m.\u001b[39mDataset(dsid)\n\u001b[1;32m    185\u001b[0m \u001b[38;5;28;01mreturn\u001b[39;00m dset\n",
      "File \u001b[0;32m~/vad-code/.conda/lib/python3.10/site-packages/h5py/_hl/dataset.py:165\u001b[0m, in \u001b[0;36mmake_new_dset\u001b[0;34m(parent, shape, dtype, data, name, chunks, compression, shuffle, fletcher32, maxshape, compression_opts, fillvalue, scaleoffset, track_times, external, track_order, dcpl, dapl, efile_prefix, virtual_prefix, allow_unknown_filter, rdcc_nslots, rdcc_nbytes, rdcc_w0, fill_time)\u001b[0m\n\u001b[1;32m    162\u001b[0m \u001b[38;5;28;01melse\u001b[39;00m:\n\u001b[1;32m    163\u001b[0m     sid \u001b[38;5;241m=\u001b[39m h5s\u001b[38;5;241m.\u001b[39mcreate_simple(shape, maxshape)\n\u001b[0;32m--> 165\u001b[0m dset_id \u001b[38;5;241m=\u001b[39m \u001b[43mh5d\u001b[49m\u001b[38;5;241;43m.\u001b[39;49m\u001b[43mcreate\u001b[49m\u001b[43m(\u001b[49m\u001b[43mparent\u001b[49m\u001b[38;5;241;43m.\u001b[39;49m\u001b[43mid\u001b[49m\u001b[43m,\u001b[49m\u001b[43m \u001b[49m\u001b[43mname\u001b[49m\u001b[43m,\u001b[49m\u001b[43m \u001b[49m\u001b[43mtid\u001b[49m\u001b[43m,\u001b[49m\u001b[43m \u001b[49m\u001b[43msid\u001b[49m\u001b[43m,\u001b[49m\u001b[43m \u001b[49m\u001b[43mdcpl\u001b[49m\u001b[38;5;241;43m=\u001b[39;49m\u001b[43mdcpl\u001b[49m\u001b[43m,\u001b[49m\u001b[43m \u001b[49m\u001b[43mdapl\u001b[49m\u001b[38;5;241;43m=\u001b[39;49m\u001b[43mdapl\u001b[49m\u001b[43m)\u001b[49m\n\u001b[1;32m    167\u001b[0m \u001b[38;5;28;01mif\u001b[39;00m (data \u001b[38;5;129;01mis\u001b[39;00m \u001b[38;5;129;01mnot\u001b[39;00m \u001b[38;5;28;01mNone\u001b[39;00m) \u001b[38;5;129;01mand\u001b[39;00m (\u001b[38;5;129;01mnot\u001b[39;00m \u001b[38;5;28misinstance\u001b[39m(data, Empty)):\n\u001b[1;32m    168\u001b[0m     dset_id\u001b[38;5;241m.\u001b[39mwrite(h5s\u001b[38;5;241m.\u001b[39mALL, h5s\u001b[38;5;241m.\u001b[39mALL, data)\n",
      "File \u001b[0;32mh5py/_objects.pyx:54\u001b[0m, in \u001b[0;36mh5py._objects.with_phil.wrapper\u001b[0;34m()\u001b[0m\n",
      "File \u001b[0;32mh5py/_objects.pyx:55\u001b[0m, in \u001b[0;36mh5py._objects.with_phil.wrapper\u001b[0;34m()\u001b[0m\n",
      "File \u001b[0;32mh5py/h5d.pyx:136\u001b[0m, in \u001b[0;36mh5py.h5d.create\u001b[0;34m()\u001b[0m\n",
      "\u001b[0;31mValueError\u001b[0m: Unable to synchronously create dataset (name already exists)"
     ]
    }
   ],
   "source": [
    "# save the autoencoder model\n",
    "autoencoder.save(f'autoencoder_model_{TYPE_DOMAIN}_train1.keras')"
   ]
  },
  {
   "cell_type": "code",
   "execution_count": 27,
   "metadata": {},
   "outputs": [
    {
     "data": {
      "text/plain": [
       "((17186, 12000, 3), (777, 12000, 3), (543, 12000, 3))"
      ]
     },
     "execution_count": 27,
     "metadata": {},
     "output_type": "execute_result"
    }
   ],
   "source": [
    "X_good_train.shape, X_good_test.shape, X_bad.shape"
   ]
  },
  {
   "cell_type": "code",
   "execution_count": 28,
   "metadata": {},
   "outputs": [
    {
     "data": {
      "text/plain": [
       "(18506, 12000, 3)"
      ]
     },
     "execution_count": 28,
     "metadata": {},
     "output_type": "execute_result"
    }
   ],
   "source": [
    "X_all = np.vstack([X_good_train, X_good_test, X_bad])\n",
    "X_all.shape"
   ]
  },
  {
   "cell_type": "code",
   "execution_count": 29,
   "metadata": {},
   "outputs": [
    {
     "data": {
      "text/plain": [
       "18506"
      ]
     },
     "execution_count": 29,
     "metadata": {},
     "output_type": "execute_result"
    }
   ],
   "source": [
    "y_all = [0]*(len(X_good_train)+len(X_good_test))+[1]*(len(X_bad))\n",
    "len(y_all)"
   ]
  },
  {
   "cell_type": "code",
   "execution_count": 30,
   "metadata": {},
   "outputs": [
    {
     "name": "stderr",
     "output_type": "stream",
     "text": [
      "2025-01-19 20:43:28.674572: W tensorflow/tsl/framework/cpu_allocator_impl.cc:82] Allocation of 2664864000 exceeds 10% of free system memory.\n"
     ]
    },
    {
     "name": "stdout",
     "output_type": "stream",
     "text": [
      "579/579 [==============================] - 10s 18ms/step\n"
     ]
    }
   ],
   "source": [
    "X_data_encode = encoder_model.predict(X_all)"
   ]
  },
  {
   "cell_type": "code",
   "execution_count": 31,
   "metadata": {},
   "outputs": [
    {
     "data": {
      "text/plain": [
       "(18506, 666)"
      ]
     },
     "execution_count": 31,
     "metadata": {},
     "output_type": "execute_result"
    }
   ],
   "source": [
    "X_data_encode.shape"
   ]
  },
  {
   "cell_type": "code",
   "execution_count": 32,
   "metadata": {},
   "outputs": [],
   "source": [
    "# save the encoded data\n",
    "np.save(f'X_data_encode_{TYPE_DOMAIN}_train1.npy', X_data_encode)"
   ]
  },
  {
   "cell_type": "code",
   "execution_count": 33,
   "metadata": {},
   "outputs": [],
   "source": [
    "np.save(f'y_data_{TYPE_DOMAIN}_train1.npy', y_all)"
   ]
  }
 ],
 "metadata": {
  "kernelspec": {
   "display_name": ".conda",
   "language": "python",
   "name": "python3"
  },
  "language_info": {
   "codemirror_mode": {
    "name": "ipython",
    "version": 3
   },
   "file_extension": ".py",
   "mimetype": "text/x-python",
   "name": "python",
   "nbconvert_exporter": "python",
   "pygments_lexer": "ipython3",
   "version": "3.11.11"
  }
 },
 "nbformat": 4,
 "nbformat_minor": 2
}
