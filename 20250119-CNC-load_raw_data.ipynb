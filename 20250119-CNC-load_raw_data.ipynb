{
 "cells": [
  {
   "cell_type": "code",
   "execution_count": 1,
   "metadata": {},
   "outputs": [],
   "source": [
    "import os\n",
    "from pathlib import Path\n",
    "from utils import data_loader_utils\n",
    "import itertools "
   ]
  },
  {
   "cell_type": "code",
   "execution_count": 2,
   "metadata": {},
   "outputs": [],
   "source": [
    "machines = [\"M01\",\"M02\",\"M03\"]\n",
    "process_names = [\"OP00\",\"OP01\",\"OP02\",\"OP03\",\"OP04\",\"OP05\",\"OP06\",\"OP07\",\"OP08\",\"OP09\",\"OP10\",\"OP11\",\"OP12\",\"OP13\",\"OP14\"]\n",
    "labels = [\"good\",\"bad\"]\n",
    "path_to_dataset = Path(\"./data/\").absolute()"
   ]
  },
  {
   "cell_type": "code",
   "execution_count": 3,
   "metadata": {},
   "outputs": [
    {
     "name": "stdout",
     "output_type": "stream",
     "text": [
      "loading files from /home/kycho/vad-code/CNC_Machining/data/M01/OP00/good... \n",
      "skipping /home/kycho/vad-code/CNC_Machining/data/M01/OP00/bad empty directory...\n",
      "loading files from /home/kycho/vad-code/CNC_Machining/data/M01/OP00/bad... \n",
      "loading files from /home/kycho/vad-code/CNC_Machining/data/M02/OP00/good... \n",
      "loading files from /home/kycho/vad-code/CNC_Machining/data/M02/OP00/bad... \n",
      "loading files from /home/kycho/vad-code/CNC_Machining/data/M03/OP00/good... \n",
      "skipping /home/kycho/vad-code/CNC_Machining/data/M03/OP00/bad empty directory...\n",
      "loading files from /home/kycho/vad-code/CNC_Machining/data/M03/OP00/bad... \n",
      "loading files from /home/kycho/vad-code/CNC_Machining/data/M01/OP01/good... \n",
      "loading files from /home/kycho/vad-code/CNC_Machining/data/M01/OP01/bad... \n",
      "loading files from /home/kycho/vad-code/CNC_Machining/data/M02/OP01/good... \n",
      "loading files from /home/kycho/vad-code/CNC_Machining/data/M02/OP01/bad... \n",
      "loading files from /home/kycho/vad-code/CNC_Machining/data/M03/OP01/good... \n",
      "loading files from /home/kycho/vad-code/CNC_Machining/data/M03/OP01/bad... \n",
      "loading files from /home/kycho/vad-code/CNC_Machining/data/M01/OP02/good... \n",
      "loading files from /home/kycho/vad-code/CNC_Machining/data/M01/OP02/bad... \n",
      "loading files from /home/kycho/vad-code/CNC_Machining/data/M02/OP02/good... \n",
      "loading files from /home/kycho/vad-code/CNC_Machining/data/M02/OP02/bad... \n",
      "loading files from /home/kycho/vad-code/CNC_Machining/data/M03/OP02/good... \n",
      "loading files from /home/kycho/vad-code/CNC_Machining/data/M03/OP02/bad... \n",
      "loading files from /home/kycho/vad-code/CNC_Machining/data/M01/OP03/good... \n",
      "loading files from /home/kycho/vad-code/CNC_Machining/data/M01/OP03/bad... \n",
      "loading files from /home/kycho/vad-code/CNC_Machining/data/M02/OP03/good... \n",
      "loading files from /home/kycho/vad-code/CNC_Machining/data/M02/OP03/bad... \n",
      "loading files from /home/kycho/vad-code/CNC_Machining/data/M03/OP03/good... \n",
      "skipping /home/kycho/vad-code/CNC_Machining/data/M03/OP03/bad empty directory...\n",
      "loading files from /home/kycho/vad-code/CNC_Machining/data/M03/OP03/bad... \n",
      "loading files from /home/kycho/vad-code/CNC_Machining/data/M01/OP04/good... \n",
      "loading files from /home/kycho/vad-code/CNC_Machining/data/M01/OP04/bad... \n",
      "loading files from /home/kycho/vad-code/CNC_Machining/data/M02/OP04/good... \n",
      "loading files from /home/kycho/vad-code/CNC_Machining/data/M02/OP04/bad... \n",
      "loading files from /home/kycho/vad-code/CNC_Machining/data/M03/OP04/good... \n",
      "loading files from /home/kycho/vad-code/CNC_Machining/data/M03/OP04/bad... \n",
      "loading files from /home/kycho/vad-code/CNC_Machining/data/M01/OP05/good... \n",
      "loading files from /home/kycho/vad-code/CNC_Machining/data/M01/OP05/bad... \n",
      "loading files from /home/kycho/vad-code/CNC_Machining/data/M02/OP05/good... \n",
      "loading files from /home/kycho/vad-code/CNC_Machining/data/M02/OP05/bad... \n",
      "loading files from /home/kycho/vad-code/CNC_Machining/data/M03/OP05/good... \n",
      "skipping /home/kycho/vad-code/CNC_Machining/data/M03/OP05/bad empty directory...\n",
      "loading files from /home/kycho/vad-code/CNC_Machining/data/M03/OP05/bad... \n",
      "loading files from /home/kycho/vad-code/CNC_Machining/data/M01/OP06/good... \n",
      "loading files from /home/kycho/vad-code/CNC_Machining/data/M01/OP06/bad... \n",
      "loading files from /home/kycho/vad-code/CNC_Machining/data/M02/OP06/good... \n",
      "skipping /home/kycho/vad-code/CNC_Machining/data/M02/OP06/bad empty directory...\n",
      "loading files from /home/kycho/vad-code/CNC_Machining/data/M02/OP06/bad... \n",
      "loading files from /home/kycho/vad-code/CNC_Machining/data/M03/OP06/good... \n",
      "skipping /home/kycho/vad-code/CNC_Machining/data/M03/OP06/bad empty directory...\n",
      "loading files from /home/kycho/vad-code/CNC_Machining/data/M03/OP06/bad... \n",
      "loading files from /home/kycho/vad-code/CNC_Machining/data/M01/OP07/good... \n",
      "loading files from /home/kycho/vad-code/CNC_Machining/data/M01/OP07/bad... \n",
      "loading files from /home/kycho/vad-code/CNC_Machining/data/M02/OP07/good... \n",
      "loading files from /home/kycho/vad-code/CNC_Machining/data/M02/OP07/bad... \n",
      "loading files from /home/kycho/vad-code/CNC_Machining/data/M03/OP07/good... \n",
      "loading files from /home/kycho/vad-code/CNC_Machining/data/M03/OP07/bad... \n",
      "loading files from /home/kycho/vad-code/CNC_Machining/data/M01/OP08/good... \n",
      "loading files from /home/kycho/vad-code/CNC_Machining/data/M01/OP08/bad... \n",
      "loading files from /home/kycho/vad-code/CNC_Machining/data/M02/OP08/good... \n",
      "loading files from /home/kycho/vad-code/CNC_Machining/data/M02/OP08/bad... \n",
      "loading files from /home/kycho/vad-code/CNC_Machining/data/M03/OP08/good... \n",
      "skipping /home/kycho/vad-code/CNC_Machining/data/M03/OP08/bad empty directory...\n",
      "loading files from /home/kycho/vad-code/CNC_Machining/data/M03/OP08/bad... \n",
      "loading files from /home/kycho/vad-code/CNC_Machining/data/M01/OP09/good... \n",
      "loading files from /home/kycho/vad-code/CNC_Machining/data/M01/OP09/bad... \n",
      "loading files from /home/kycho/vad-code/CNC_Machining/data/M02/OP09/good... \n",
      "skipping /home/kycho/vad-code/CNC_Machining/data/M02/OP09/bad empty directory...\n",
      "loading files from /home/kycho/vad-code/CNC_Machining/data/M02/OP09/bad... \n",
      "loading files from /home/kycho/vad-code/CNC_Machining/data/M03/OP09/good... \n",
      "skipping /home/kycho/vad-code/CNC_Machining/data/M03/OP09/bad empty directory...\n",
      "loading files from /home/kycho/vad-code/CNC_Machining/data/M03/OP09/bad... \n",
      "loading files from /home/kycho/vad-code/CNC_Machining/data/M01/OP10/good... \n",
      "loading files from /home/kycho/vad-code/CNC_Machining/data/M01/OP10/bad... \n",
      "loading files from /home/kycho/vad-code/CNC_Machining/data/M02/OP10/good... \n",
      "loading files from /home/kycho/vad-code/CNC_Machining/data/M02/OP10/bad... \n",
      "loading files from /home/kycho/vad-code/CNC_Machining/data/M03/OP10/good... \n",
      "loading files from /home/kycho/vad-code/CNC_Machining/data/M03/OP10/bad... \n",
      "loading files from /home/kycho/vad-code/CNC_Machining/data/M01/OP11/good... \n",
      "loading files from /home/kycho/vad-code/CNC_Machining/data/M01/OP11/bad... \n",
      "loading files from /home/kycho/vad-code/CNC_Machining/data/M02/OP11/good... \n",
      "loading files from /home/kycho/vad-code/CNC_Machining/data/M02/OP11/bad... \n",
      "loading files from /home/kycho/vad-code/CNC_Machining/data/M03/OP11/good... \n",
      "skipping /home/kycho/vad-code/CNC_Machining/data/M03/OP11/bad empty directory...\n",
      "loading files from /home/kycho/vad-code/CNC_Machining/data/M03/OP11/bad... \n",
      "loading files from /home/kycho/vad-code/CNC_Machining/data/M01/OP12/good... \n",
      "loading files from /home/kycho/vad-code/CNC_Machining/data/M01/OP12/bad... \n",
      "loading files from /home/kycho/vad-code/CNC_Machining/data/M02/OP12/good... \n",
      "loading files from /home/kycho/vad-code/CNC_Machining/data/M02/OP12/bad... \n",
      "loading files from /home/kycho/vad-code/CNC_Machining/data/M03/OP12/good... \n",
      "skipping /home/kycho/vad-code/CNC_Machining/data/M03/OP12/bad empty directory...\n",
      "loading files from /home/kycho/vad-code/CNC_Machining/data/M03/OP12/bad... \n",
      "loading files from /home/kycho/vad-code/CNC_Machining/data/M01/OP13/good... \n",
      "skipping /home/kycho/vad-code/CNC_Machining/data/M01/OP13/bad empty directory...\n",
      "loading files from /home/kycho/vad-code/CNC_Machining/data/M01/OP13/bad... \n",
      "loading files from /home/kycho/vad-code/CNC_Machining/data/M02/OP13/good... \n",
      "skipping /home/kycho/vad-code/CNC_Machining/data/M02/OP13/bad empty directory...\n",
      "loading files from /home/kycho/vad-code/CNC_Machining/data/M02/OP13/bad... \n",
      "loading files from /home/kycho/vad-code/CNC_Machining/data/M03/OP13/good... \n",
      "skipping /home/kycho/vad-code/CNC_Machining/data/M03/OP13/bad empty directory...\n",
      "loading files from /home/kycho/vad-code/CNC_Machining/data/M03/OP13/bad... \n",
      "loading files from /home/kycho/vad-code/CNC_Machining/data/M01/OP14/good... \n",
      "loading files from /home/kycho/vad-code/CNC_Machining/data/M01/OP14/bad... \n",
      "loading files from /home/kycho/vad-code/CNC_Machining/data/M02/OP14/good... \n",
      "loading files from /home/kycho/vad-code/CNC_Machining/data/M02/OP14/bad... \n",
      "skipping /home/kycho/vad-code/CNC_Machining/data/M03/OP14/good empty directory...\n",
      "loading files from /home/kycho/vad-code/CNC_Machining/data/M03/OP14/good... \n",
      "skipping /home/kycho/vad-code/CNC_Machining/data/M03/OP14/bad empty directory...\n",
      "loading files from /home/kycho/vad-code/CNC_Machining/data/M03/OP14/bad... \n"
     ]
    }
   ],
   "source": [
    "X_raw_data = []\n",
    "y_raw_data = []\n",
    "\n",
    "for process_name, machine, label in itertools.product(process_names, machines, labels):\n",
    "    data_path = os.path.join(path_to_dataset, machine, process_name, label)\n",
    "    data_list, data_label = data_loader_utils.load_tool_research_data(data_path, label=label)\n",
    "    #concatenating\n",
    "    X_raw_data.extend(data_list)\n",
    "    y_raw_data.extend(data_label)"
   ]
  },
  {
   "cell_type": "code",
   "execution_count": 4,
   "metadata": {},
   "outputs": [],
   "source": [
    "for arr in X_raw_data:\n",
    "    arr[:, 2] += 1000"
   ]
  },
  {
   "cell_type": "code",
   "execution_count": 5,
   "metadata": {},
   "outputs": [],
   "source": [
    "import pickle\n",
    "\n",
    "# save X_raw_data, y_raw_data\n",
    "with open('X_raw_data.pkl', 'wb') as f:\n",
    "    pickle.dump(X_raw_data, f)\n",
    "\n",
    "with open('y_raw_data.pkl', 'wb') as f:\n",
    "    pickle.dump(y_raw_data, f)"
   ]
  },
  {
   "cell_type": "code",
   "execution_count": null,
   "metadata": {},
   "outputs": [],
   "source": []
  },
  {
   "cell_type": "code",
   "execution_count": null,
   "metadata": {},
   "outputs": [],
   "source": []
  },
  {
   "cell_type": "code",
   "execution_count": 5,
   "metadata": {},
   "outputs": [],
   "source": [
    "# from sklearn.preprocessing import StandardScaler\n",
    "# import numpy as np\n",
    "\n",
    "# # 假設你有一個列表，裡面存放了不同長度的時間序列資料\n",
    "# # time_series_data = [x0, x1, x2, ...]\n",
    "# time_series_data = X_raw_data\n",
    "\n",
    "# # 步驟 1: 合併所有時間序列，並將它們變成一個大的矩陣\n",
    "# # 這裡我們將每個時間序列的形狀改為 (L, 3) 這樣所有時間序列的維度就統一了\n",
    "# all_data = np.concatenate([ts.reshape(-1, ts.shape[-1]) for ts in time_series_data], axis=0)\n",
    "\n",
    "# # 步驟 2: 用 StandardScaler 對整個資料集進行標準化\n",
    "# scaler = StandardScaler()\n",
    "# all_data_standardized = scaler.fit_transform(all_data)\n",
    "\n",
    "# # 步驟 3: 將標準化後的資料轉換回原來的形狀\n",
    "# standardized_data = []\n",
    "# start = 0\n",
    "# for ts in time_series_data:\n",
    "#     end = start + ts.shape[0]\n",
    "#     standardized_data.append(all_data_standardized[start:end].reshape(ts.shape))\n",
    "#     start = end\n",
    "\n",
    "# # standardized_data 中的每筆資料現在都是標準化過的"
   ]
  },
  {
   "cell_type": "code",
   "execution_count": 22,
   "metadata": {},
   "outputs": [
    {
     "data": {
      "text/plain": [
       "True"
      ]
     },
     "execution_count": 22,
     "metadata": {},
     "output_type": "execute_result"
    }
   ],
   "source": [
    "# _i = 120\n",
    "# standardized_data[_i].shape == X_raw_data[_i].shape"
   ]
  },
  {
   "cell_type": "code",
   "execution_count": 23,
   "metadata": {},
   "outputs": [
    {
     "data": {
      "text/plain": [
       "['scaler.pkl']"
      ]
     },
     "execution_count": 23,
     "metadata": {},
     "output_type": "execute_result"
    }
   ],
   "source": [
    "# import joblib\n",
    "# # 儲存 scaler 到檔案\n",
    "# joblib.dump(scaler, 'scaler.pkl')\n",
    "\n",
    "# # # 載入已儲存的 scaler\n",
    "# # scaler = joblib.load('scaler.pkl')"
   ]
  },
  {
   "cell_type": "code",
   "execution_count": 24,
   "metadata": {},
   "outputs": [],
   "source": [
    "# import pickle\n",
    "\n",
    "# # save X_raw_data, y_raw_data\n",
    "# with open('X_raw_data_normalized.pkl', 'wb') as f:\n",
    "#     pickle.dump(X_raw_data, f)\n",
    "\n",
    "# with open('y_raw_data_normalized.pkl', 'wb') as f:\n",
    "#     pickle.dump(y_raw_data, f)"
   ]
  }
 ],
 "metadata": {
  "kernelspec": {
   "display_name": ".conda",
   "language": "python",
   "name": "python3"
  },
  "language_info": {
   "codemirror_mode": {
    "name": "ipython",
    "version": 3
   },
   "file_extension": ".py",
   "mimetype": "text/x-python",
   "name": "python",
   "nbconvert_exporter": "python",
   "pygments_lexer": "ipython3",
   "version": "3.10.16"
  }
 },
 "nbformat": 4,
 "nbformat_minor": 2
}
