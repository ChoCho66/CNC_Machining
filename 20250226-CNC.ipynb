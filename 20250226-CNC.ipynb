{
 "cells": [
  {
   "cell_type": "code",
   "execution_count": 1,
   "metadata": {},
   "outputs": [
    {
     "name": "stderr",
     "output_type": "stream",
     "text": [
      "2025-02-26 19:18:19.106105: I tensorflow/core/platform/cpu_feature_guard.cc:193] This TensorFlow binary is optimized with oneAPI Deep Neural Network Library (oneDNN) to use the following CPU instructions in performance-critical operations:  AVX2 AVX512F FMA\n",
      "To enable them in other operations, rebuild TensorFlow with the appropriate compiler flags.\n",
      "2025-02-26 19:18:19.913432: W tensorflow/compiler/xla/stream_executor/platform/default/dso_loader.cc:64] Could not load dynamic library 'libnvinfer.so.7'; dlerror: libnvinfer.so.7: cannot open shared object file: No such file or directory; LD_LIBRARY_PATH: /usr/local/cuda-11.2/lib64:\n",
      "2025-02-26 19:18:19.913570: W tensorflow/compiler/xla/stream_executor/platform/default/dso_loader.cc:64] Could not load dynamic library 'libnvinfer_plugin.so.7'; dlerror: libnvinfer_plugin.so.7: cannot open shared object file: No such file or directory; LD_LIBRARY_PATH: /usr/local/cuda-11.2/lib64:\n",
      "2025-02-26 19:18:19.913581: W tensorflow/compiler/tf2tensorrt/utils/py_utils.cc:38] TF-TRT Warning: Cannot dlopen some TensorRT libraries. If you would like to use Nvidia GPU with TensorRT, please make sure the missing libraries mentioned above are installed properly.\n"
     ]
    }
   ],
   "source": [
    "import pandas as pd\n",
    "from glob import glob\n",
    "import numpy as np\n",
    "import matplotlib.pyplot as plt\n",
    "import seaborn as sns\n",
    "from tqdm import tqdm\n",
    "import os\n",
    "\n",
    "from sklearn.model_selection import train_test_split\n",
    "from sklearn.metrics import classification_report\n",
    "import tensorflow as tf\n",
    "from keras.models import Model, Sequential\n",
    "from keras.layers import Input, Dense\n",
    "from keras.optimizers import Adam\n",
    "\n",
    "%matplotlib inline\n",
    "\n",
    "np.random.seed(42)"
   ]
  },
  {
   "cell_type": "code",
   "execution_count": 2,
   "metadata": {},
   "outputs": [
    {
     "name": "stdout",
     "output_type": "stream",
     "text": [
      "['vibration_data']\n",
      "[[  -23.    31. -1016.]\n",
      " [  -23.    23. -1018.]\n",
      " [  -17.    17. -1013.]\n",
      " ...\n",
      " [   -9.    19. -1030.]\n",
      " [   -5.    35. -1016.]\n",
      " [  -11.    25. -1020.]]\n"
     ]
    }
   ],
   "source": [
    "import h5py\n",
    "with h5py.File(\"data/M01/OP04/good/M01_Aug_2019_OP04_011.h5\", \"r\") as f:\n",
    "    print(list(f.keys()))\n",
    "    print(f['vibration_data'][:])"
   ]
  },
  {
   "cell_type": "code",
   "execution_count": 3,
   "metadata": {},
   "outputs": [
    {
     "name": "stderr",
     "output_type": "stream",
     "text": [
      "100%|██████████| 1702/1702 [00:19<00:00, 86.08it/s] \n"
     ]
    }
   ],
   "source": [
    "import h5py\n",
    "dataset_path = 'data'\n",
    "samplerate = 2000\n",
    "\n",
    "# Pattern to match all CSV files\n",
    "pattern = os.path.join(dataset_path, '*', '*', '*', '*.h5')  \n",
    "\n",
    "data = []\n",
    "labels = []\n",
    "\n",
    "for h5_file in tqdm(glob(pattern)):\n",
    "    # Extract label from the file path\n",
    "    label = h5_file.split(os.sep)[-2]\n",
    "    with h5py.File(h5_file, \"r\") as f:\n",
    "        # Convert to numpy array first to check the length\n",
    "        vibration_data_np = f['vibration_data'][:]\n",
    "\n",
    "        # Check if the length of the data is at least 10*samplerate\n",
    "        if not len(vibration_data_np) >= 10 * samplerate:\n",
    "            continue\n",
    "\n",
    "        # If so, append the first 10 seconds of data\n",
    "        data.append(vibration_data_np[:(10 * samplerate)])\n",
    "        labels.append(0 if label=='bad' else 1)\n",
    "\n",
    "data = np.array(data)\n",
    "labels = np.array(labels)"
   ]
  },
  {
   "cell_type": "code",
   "execution_count": 4,
   "metadata": {},
   "outputs": [
    {
     "data": {
      "text/plain": [
       "(1702, 20000, 3)"
      ]
     },
     "execution_count": 4,
     "metadata": {},
     "output_type": "execute_result"
    }
   ],
   "source": [
    "data.shape"
   ]
  },
  {
   "cell_type": "code",
   "execution_count": 5,
   "metadata": {},
   "outputs": [],
   "source": [
    "downsample_factor = 10\n",
    "new_shape = data.shape[0], data.shape[1] // downsample_factor, downsample_factor, data.shape[2]\n",
    "\n",
    "# Downsampling the data\n",
    "data_sampled = np.mean(data.reshape(new_shape), axis=2)"
   ]
  },
  {
   "cell_type": "code",
   "execution_count": 6,
   "metadata": {},
   "outputs": [
    {
     "data": {
      "text/plain": [
       "(1702, 2000, 3)"
      ]
     },
     "execution_count": 6,
     "metadata": {},
     "output_type": "execute_result"
    }
   ],
   "source": [
    "data_sampled.shape"
   ]
  },
  {
   "cell_type": "code",
   "execution_count": 7,
   "metadata": {},
   "outputs": [
    {
     "name": "stdout",
     "output_type": "stream",
     "text": [
      "X_train shape: (1361, 2000, 3)\n",
      "y_train shape: (1361,)\n",
      "X_test shape: (341, 2000, 3)\n",
      "y_test shape: (341,)\n"
     ]
    }
   ],
   "source": [
    "X_train, X_test, y_train, y_test = train_test_split(data_sampled,\n",
    "                                                    labels,\n",
    "                                                    test_size=0.2,\n",
    "                                                    shuffle=True,\n",
    "                                                    random_state=42,\n",
    "                                                    stratify=labels)\n",
    "\n",
    "print(f'X_train shape: {X_train.shape}')\n",
    "print(f'y_train shape: {y_train.shape}')\n",
    "print(f'X_test shape: {X_test.shape}')\n",
    "print(f'y_test shape: {y_test.shape}')\n"
   ]
  },
  {
   "cell_type": "code",
   "execution_count": 8,
   "metadata": {},
   "outputs": [],
   "source": [
    "# normalize X_train to [0,1] by sklearn.preprocessing.MinMaxScaler\n",
    "from sklearn.preprocessing import MinMaxScaler\n",
    "\n",
    "X_train_reshaped = X_train.reshape(-1, X_train.shape[-1])  # 變成 (1000, 3)\n",
    "\n",
    "scaler = MinMaxScaler()\n",
    "X_train_scaled = scaler.fit_transform(X_train_reshaped)\n",
    "\n",
    "# 轉回原形狀\n",
    "X_train = X_train_scaled.reshape(X_train.shape)"
   ]
  },
  {
   "cell_type": "code",
   "execution_count": 9,
   "metadata": {},
   "outputs": [],
   "source": [
    "X_test_reshaped = X_test.reshape(-1, X_test.shape[-1])  # 變成 (1000, 3)\n",
    "X_test_scaled = scaler.transform(X_test_reshaped)\n",
    "# 轉回原形狀\n",
    "X_test = X_test_scaled.reshape(X_test.shape)"
   ]
  },
  {
   "cell_type": "code",
   "execution_count": 10,
   "metadata": {},
   "outputs": [
    {
     "data": {
      "text/plain": [
       "(1361, 2000, 3)"
      ]
     },
     "execution_count": 10,
     "metadata": {},
     "output_type": "execute_result"
    }
   ],
   "source": [
    "X_train.shape"
   ]
  },
  {
   "cell_type": "code",
   "execution_count": 11,
   "metadata": {},
   "outputs": [
    {
     "name": "stderr",
     "output_type": "stream",
     "text": [
      "2025-02-26 19:19:22.930119: I tensorflow/compiler/xla/stream_executor/cuda/cuda_gpu_executor.cc:981] successful NUMA node read from SysFS had negative value (-1), but there must be at least one NUMA node, so returning NUMA node zero\n",
      "2025-02-26 19:19:22.938748: I tensorflow/compiler/xla/stream_executor/cuda/cuda_gpu_executor.cc:981] successful NUMA node read from SysFS had negative value (-1), but there must be at least one NUMA node, so returning NUMA node zero\n",
      "2025-02-26 19:19:22.939027: I tensorflow/compiler/xla/stream_executor/cuda/cuda_gpu_executor.cc:981] successful NUMA node read from SysFS had negative value (-1), but there must be at least one NUMA node, so returning NUMA node zero\n",
      "2025-02-26 19:19:22.939626: I tensorflow/core/platform/cpu_feature_guard.cc:193] This TensorFlow binary is optimized with oneAPI Deep Neural Network Library (oneDNN) to use the following CPU instructions in performance-critical operations:  AVX2 AVX512F FMA\n",
      "To enable them in other operations, rebuild TensorFlow with the appropriate compiler flags.\n",
      "2025-02-26 19:19:22.940361: I tensorflow/compiler/xla/stream_executor/cuda/cuda_gpu_executor.cc:981] successful NUMA node read from SysFS had negative value (-1), but there must be at least one NUMA node, so returning NUMA node zero\n",
      "2025-02-26 19:19:22.940629: I tensorflow/compiler/xla/stream_executor/cuda/cuda_gpu_executor.cc:981] successful NUMA node read from SysFS had negative value (-1), but there must be at least one NUMA node, so returning NUMA node zero\n",
      "2025-02-26 19:19:22.940841: I tensorflow/compiler/xla/stream_executor/cuda/cuda_gpu_executor.cc:981] successful NUMA node read from SysFS had negative value (-1), but there must be at least one NUMA node, so returning NUMA node zero\n",
      "2025-02-26 19:19:23.407856: I tensorflow/compiler/xla/stream_executor/cuda/cuda_gpu_executor.cc:981] successful NUMA node read from SysFS had negative value (-1), but there must be at least one NUMA node, so returning NUMA node zero\n",
      "2025-02-26 19:19:23.408212: I tensorflow/compiler/xla/stream_executor/cuda/cuda_gpu_executor.cc:981] successful NUMA node read from SysFS had negative value (-1), but there must be at least one NUMA node, so returning NUMA node zero\n",
      "2025-02-26 19:19:23.408501: I tensorflow/compiler/xla/stream_executor/cuda/cuda_gpu_executor.cc:981] successful NUMA node read from SysFS had negative value (-1), but there must be at least one NUMA node, so returning NUMA node zero\n",
      "2025-02-26 19:19:23.408695: I tensorflow/core/common_runtime/gpu/gpu_device.cc:1613] Created device /job:localhost/replica:0/task:0/device:GPU:0 with 21969 MB memory:  -> device: 0, name: GRID P40-24Q, pci bus id: 0000:02:00.0, compute capability: 6.1\n"
     ]
    },
    {
     "name": "stdout",
     "output_type": "stream",
     "text": [
      "Model: \"auto_encoder\"\n",
      "_________________________________________________________________\n",
      " Layer (type)                Output Shape              Param #   \n",
      "=================================================================\n",
      " flatten (Flatten)           multiple                  0         \n",
      "                                                                 \n",
      " encoder (Sequential)        (1361, 32)                778464    \n",
      "                                                                 \n",
      " decoder (Sequential)        (1361, 6000)              785488    \n",
      "                                                                 \n",
      " reshape (Reshape)           multiple                  0         \n",
      "                                                                 \n",
      "=================================================================\n",
      "Total params: 1,563,952\n",
      "Trainable params: 1,563,952\n",
      "Non-trainable params: 0\n",
      "_________________________________________________________________\n"
     ]
    }
   ],
   "source": [
    "import tensorflow as tf\n",
    "from tensorflow.keras.models import Model, Sequential\n",
    "from tensorflow.keras.layers import Input, Dense, Flatten, Reshape\n",
    "from tensorflow.keras.optimizers import Adam\n",
    "import numpy as np\n",
    "\n",
    "class AutoEncoder(Model):\n",
    "    def __init__(self, input_shape):\n",
    "        super().__init__()\n",
    "        self.input_shape_ = input_shape  # e.g., (2000, 3)\n",
    "        self.input_layer = Input(shape=input_shape)  # 3D input: (2000, 3)\n",
    "\n",
    "        # Flatten the input from (2000, 3) to (6000,)\n",
    "        self.flatten = Flatten()\n",
    "\n",
    "        # Encoder part\n",
    "        self.encoder = Sequential([\n",
    "            Dense(128, activation='relu', name='encoder1'),\n",
    "            Dense(64, activation='relu', name='encoder2'),\n",
    "            Dense(32, activation='relu', name='encoder3'),\n",
    "        ], name='encoder')\n",
    "\n",
    "        # Decoder part\n",
    "        self.decoder = Sequential([\n",
    "            Dense(32, activation='relu', name='decoder1'),\n",
    "            Dense(64, activation='relu', name='decoder2'),\n",
    "            Dense(128, activation='relu', name='decoder3'),\n",
    "            Dense(input_shape[0] * input_shape[1], activation='sigmoid', name='output'),  # 2000 * 3 = 6000\n",
    "        ], name='decoder')\n",
    "\n",
    "        # Reshape back to original shape (2000, 3)\n",
    "        self.reshape = Reshape(input_shape)\n",
    "\n",
    "    def call(self, inputs):\n",
    "        flattened = self.flatten(inputs)  # (batch_size, 6000)\n",
    "        encoded = self.encoder(flattened)  # (batch_size, 32)\n",
    "        decoded = self.decoder(encoded)    # (batch_size, 6000)\n",
    "        reconstructed = self.reshape(decoded)  # (batch_size, 2000, 3)\n",
    "        return reconstructed\n",
    "\n",
    "# Define input shape based on X_train\n",
    "input_shape = X_train.shape[1:]  # (2000, 3)\n",
    "\n",
    "# Instantiate and compile the model\n",
    "autoencoder = AutoEncoder(input_shape=input_shape)\n",
    "autoencoder.compile(optimizer=Adam(learning_rate=1e-4), loss='mae')\n",
    "\n",
    "# Build the model with a sample input\n",
    "_ = autoencoder(X_train)\n",
    "\n",
    "# Display the model's architecture\n",
    "autoencoder.summary()"
   ]
  },
  {
   "cell_type": "code",
   "execution_count": 12,
   "metadata": {},
   "outputs": [
    {
     "data": {
      "text/plain": [
       "TensorShape([1361, 2000, 3])"
      ]
     },
     "execution_count": 12,
     "metadata": {},
     "output_type": "execute_result"
    }
   ],
   "source": [
    "_.shape"
   ]
  },
  {
   "cell_type": "code",
   "execution_count": 13,
   "metadata": {},
   "outputs": [
    {
     "name": "stdout",
     "output_type": "stream",
     "text": [
      "Epoch 1/100\n"
     ]
    },
    {
     "name": "stderr",
     "output_type": "stream",
     "text": [
      "2025-02-26 19:19:57.998823: I tensorflow/compiler/xla/service/service.cc:173] XLA service 0x7f8020011470 initialized for platform CUDA (this does not guarantee that XLA will be used). Devices:\n",
      "2025-02-26 19:19:57.998871: I tensorflow/compiler/xla/service/service.cc:181]   StreamExecutor device (0): GRID P40-24Q, Compute Capability 6.1\n",
      "2025-02-26 19:19:58.004582: I tensorflow/compiler/mlir/tensorflow/utils/dump_mlir_util.cc:268] disabling MLIR crash reproducer, set env var `MLIR_CRASH_REPRODUCER_DIRECTORY` to enable.\n",
      "2025-02-26 19:19:58.130472: I tensorflow/compiler/jit/xla_compilation_cache.cc:477] Compiled cluster using XLA!  This line is logged at most once for the lifetime of the process.\n"
     ]
    },
    {
     "name": "stdout",
     "output_type": "stream",
     "text": [
      "33/33 [==============================] - 3s 15ms/step - loss: 0.0944 - val_loss: 0.0736\n",
      "Epoch 2/100\n",
      "33/33 [==============================] - 0s 4ms/step - loss: 0.0495 - val_loss: 0.0330\n",
      "Epoch 3/100\n",
      "33/33 [==============================] - 0s 5ms/step - loss: 0.0302 - val_loss: 0.0285\n",
      "Epoch 4/100\n",
      "33/33 [==============================] - 0s 4ms/step - loss: 0.0287 - val_loss: 0.0283\n",
      "Epoch 5/100\n",
      "33/33 [==============================] - 0s 4ms/step - loss: 0.0286 - val_loss: 0.0283\n",
      "Epoch 6/100\n",
      "33/33 [==============================] - 0s 4ms/step - loss: 0.0286 - val_loss: 0.0283\n",
      "Epoch 7/100\n",
      "33/33 [==============================] - 0s 4ms/step - loss: 0.0286 - val_loss: 0.0283\n",
      "Epoch 8/100\n",
      "33/33 [==============================] - 0s 4ms/step - loss: 0.0286 - val_loss: 0.0282\n",
      "Epoch 9/100\n",
      "33/33 [==============================] - 0s 4ms/step - loss: 0.0286 - val_loss: 0.0283\n",
      "Epoch 10/100\n",
      "33/33 [==============================] - 0s 4ms/step - loss: 0.0286 - val_loss: 0.0283\n",
      "Epoch 11/100\n",
      "33/33 [==============================] - 0s 4ms/step - loss: 0.0286 - val_loss: 0.0283\n",
      "Epoch 12/100\n",
      "33/33 [==============================] - 0s 4ms/step - loss: 0.0286 - val_loss: 0.0283\n",
      "Epoch 13/100\n",
      "33/33 [==============================] - 0s 4ms/step - loss: 0.0286 - val_loss: 0.0283\n",
      "Epoch 14/100\n",
      "33/33 [==============================] - 0s 4ms/step - loss: 0.0286 - val_loss: 0.0283\n",
      "Epoch 15/100\n",
      "33/33 [==============================] - 0s 4ms/step - loss: 0.0286 - val_loss: 0.0282\n",
      "Epoch 16/100\n",
      "33/33 [==============================] - 0s 4ms/step - loss: 0.0286 - val_loss: 0.0282\n",
      "Epoch 17/100\n",
      "33/33 [==============================] - 0s 4ms/step - loss: 0.0286 - val_loss: 0.0282\n",
      "Epoch 18/100\n",
      "33/33 [==============================] - 0s 4ms/step - loss: 0.0286 - val_loss: 0.0282\n",
      "Epoch 19/100\n",
      "33/33 [==============================] - 0s 4ms/step - loss: 0.0286 - val_loss: 0.0282\n",
      "Epoch 20/100\n",
      "33/33 [==============================] - 0s 4ms/step - loss: 0.0285 - val_loss: 0.0283\n",
      "Epoch 21/100\n",
      "33/33 [==============================] - 0s 4ms/step - loss: 0.0286 - val_loss: 0.0283\n",
      "Epoch 22/100\n",
      "33/33 [==============================] - 0s 4ms/step - loss: 0.0285 - val_loss: 0.0283\n",
      "Epoch 23/100\n",
      "33/33 [==============================] - 0s 4ms/step - loss: 0.0286 - val_loss: 0.0282\n",
      "Epoch 24/100\n",
      "33/33 [==============================] - 0s 4ms/step - loss: 0.0285 - val_loss: 0.0283\n",
      "Epoch 25/100\n",
      "33/33 [==============================] - 0s 4ms/step - loss: 0.0285 - val_loss: 0.0283\n",
      "Epoch 26/100\n",
      "33/33 [==============================] - 0s 4ms/step - loss: 0.0285 - val_loss: 0.0282\n",
      "Epoch 27/100\n",
      "33/33 [==============================] - 0s 4ms/step - loss: 0.0285 - val_loss: 0.0282\n",
      "Epoch 28/100\n",
      "33/33 [==============================] - 0s 4ms/step - loss: 0.0285 - val_loss: 0.0282\n",
      "Epoch 29/100\n",
      "33/33 [==============================] - 0s 4ms/step - loss: 0.0285 - val_loss: 0.0282\n",
      "Epoch 30/100\n",
      "33/33 [==============================] - 0s 4ms/step - loss: 0.0285 - val_loss: 0.0282\n",
      "Epoch 31/100\n",
      "33/33 [==============================] - 0s 4ms/step - loss: 0.0285 - val_loss: 0.0282\n",
      "Epoch 32/100\n",
      "33/33 [==============================] - 0s 4ms/step - loss: 0.0285 - val_loss: 0.0283\n",
      "Epoch 33/100\n",
      "33/33 [==============================] - 0s 4ms/step - loss: 0.0285 - val_loss: 0.0282\n",
      "Epoch 34/100\n",
      "33/33 [==============================] - 0s 4ms/step - loss: 0.0285 - val_loss: 0.0282\n",
      "Epoch 35/100\n",
      "33/33 [==============================] - 0s 4ms/step - loss: 0.0285 - val_loss: 0.0282\n",
      "Epoch 36/100\n",
      "33/33 [==============================] - 0s 4ms/step - loss: 0.0285 - val_loss: 0.0282\n",
      "Epoch 37/100\n",
      "33/33 [==============================] - 0s 4ms/step - loss: 0.0285 - val_loss: 0.0282\n",
      "Epoch 38/100\n",
      "33/33 [==============================] - 0s 4ms/step - loss: 0.0285 - val_loss: 0.0282\n",
      "Epoch 39/100\n",
      "33/33 [==============================] - 0s 4ms/step - loss: 0.0285 - val_loss: 0.0282\n",
      "Epoch 40/100\n",
      "33/33 [==============================] - 0s 4ms/step - loss: 0.0285 - val_loss: 0.0282\n",
      "Epoch 41/100\n",
      "33/33 [==============================] - 0s 4ms/step - loss: 0.0285 - val_loss: 0.0281\n",
      "Epoch 42/100\n",
      "33/33 [==============================] - 0s 4ms/step - loss: 0.0285 - val_loss: 0.0282\n",
      "Epoch 43/100\n",
      "33/33 [==============================] - 0s 4ms/step - loss: 0.0285 - val_loss: 0.0282\n",
      "Epoch 44/100\n",
      "33/33 [==============================] - 0s 4ms/step - loss: 0.0285 - val_loss: 0.0281\n",
      "Epoch 45/100\n",
      "33/33 [==============================] - 0s 4ms/step - loss: 0.0285 - val_loss: 0.0282\n",
      "Epoch 46/100\n",
      "33/33 [==============================] - 0s 4ms/step - loss: 0.0285 - val_loss: 0.0282\n",
      "Epoch 47/100\n",
      "33/33 [==============================] - 0s 4ms/step - loss: 0.0285 - val_loss: 0.0281\n",
      "Epoch 48/100\n",
      "33/33 [==============================] - 0s 4ms/step - loss: 0.0284 - val_loss: 0.0282\n",
      "Epoch 49/100\n",
      "33/33 [==============================] - 0s 4ms/step - loss: 0.0284 - val_loss: 0.0281\n",
      "Epoch 50/100\n",
      "33/33 [==============================] - 0s 4ms/step - loss: 0.0284 - val_loss: 0.0281\n",
      "Epoch 51/100\n",
      "33/33 [==============================] - 0s 4ms/step - loss: 0.0284 - val_loss: 0.0282\n",
      "Epoch 52/100\n",
      "33/33 [==============================] - 0s 4ms/step - loss: 0.0284 - val_loss: 0.0281\n",
      "Epoch 53/100\n",
      "33/33 [==============================] - 0s 4ms/step - loss: 0.0284 - val_loss: 0.0282\n",
      "Epoch 54/100\n",
      "33/33 [==============================] - 0s 4ms/step - loss: 0.0284 - val_loss: 0.0282\n",
      "Epoch 55/100\n",
      "33/33 [==============================] - 0s 4ms/step - loss: 0.0284 - val_loss: 0.0281\n",
      "Epoch 56/100\n",
      "33/33 [==============================] - 0s 4ms/step - loss: 0.0284 - val_loss: 0.0281\n",
      "Epoch 57/100\n",
      "33/33 [==============================] - 0s 4ms/step - loss: 0.0284 - val_loss: 0.0281\n",
      "Epoch 58/100\n",
      "33/33 [==============================] - 0s 4ms/step - loss: 0.0284 - val_loss: 0.0282\n",
      "Epoch 59/100\n",
      "33/33 [==============================] - 0s 4ms/step - loss: 0.0284 - val_loss: 0.0281\n",
      "Epoch 60/100\n",
      "33/33 [==============================] - 0s 4ms/step - loss: 0.0284 - val_loss: 0.0281\n",
      "Epoch 61/100\n",
      "33/33 [==============================] - 0s 4ms/step - loss: 0.0284 - val_loss: 0.0281\n",
      "Epoch 62/100\n",
      "33/33 [==============================] - 0s 4ms/step - loss: 0.0284 - val_loss: 0.0281\n",
      "Epoch 63/100\n",
      "33/33 [==============================] - 0s 4ms/step - loss: 0.0284 - val_loss: 0.0281\n",
      "Epoch 64/100\n",
      "33/33 [==============================] - 0s 4ms/step - loss: 0.0284 - val_loss: 0.0281\n",
      "Epoch 65/100\n",
      "33/33 [==============================] - 0s 5ms/step - loss: 0.0284 - val_loss: 0.0281\n"
     ]
    }
   ],
   "source": [
    "import numpy as np\n",
    "from tensorflow.keras.callbacks import EarlyStopping\n",
    "\n",
    "EPOCHS = 100\n",
    "BATCH_SIZE = 32\n",
    "\n",
    "# 假設 X_train 和 y_train 已經定義\n",
    "X_train_normal = X_train[np.where(y_train == 1)]\n",
    "\n",
    "# 定義 Early Stopping 回調\n",
    "early_stopping = EarlyStopping(\n",
    "    monitor='val_loss',    # 監控驗證集的損失\n",
    "    patience=10,          # 如果 10 個 epoch 沒有改善就停止\n",
    "    restore_best_weights=True,  # 恢復最佳權重\n",
    "    mode='min'            # 希望損失是最小值\n",
    ")\n",
    "\n",
    "# 訓練模型，使用 validation_split 自動切分驗證集\n",
    "history = autoencoder.fit(\n",
    "    X_train_normal, X_train_normal,\n",
    "    epochs=EPOCHS,\n",
    "    batch_size=BATCH_SIZE,\n",
    "    validation_split=0.2,  # 自動從訓練數據中分出 20% 作為驗證集\n",
    "    shuffle=True,\n",
    "    callbacks=[early_stopping]  # 添加 early stopping 回調\n",
    ")"
   ]
  },
  {
   "cell_type": "code",
   "execution_count": 17,
   "metadata": {},
   "outputs": [
    {
     "data": {
      "image/png": "[encoded data removed]",
      "text/plain": [
       "<Figure size 800x600 with 1 Axes>"
      ]
     },
     "metadata": {},
     "output_type": "display_data"
    }
   ],
   "source": [
    "import matplotlib.pyplot as plt\n",
    "\n",
    "# 提取訓練過程中的損失和驗證損失\n",
    "train_loss = history.history['loss']\n",
    "val_loss = history.history['val_loss']\n",
    "\n",
    "# 畫圖\n",
    "plt.figure(figsize=(8, 6))\n",
    "plt.plot(train_loss, label='Train Loss')\n",
    "plt.plot(val_loss, label='Validation Loss')\n",
    "plt.title('Training and Validation Loss over Epochs')\n",
    "plt.xlabel('Epochs')\n",
    "plt.ylabel('Loss')\n",
    "plt.ylim(0,0.04)\n",
    "plt.legend()\n",
    "plt.grid(True)\n",
    "plt.show()"
   ]
  },
  {
   "cell_type": "code",
   "execution_count": 19,
   "metadata": {},
   "outputs": [
    {
     "data": {
      "text/plain": [
       "(341, 2000, 3)"
      ]
     },
     "execution_count": 19,
     "metadata": {},
     "output_type": "execute_result"
    }
   ],
   "source": [
    "X_test.shape"
   ]
  },
  {
   "cell_type": "code",
   "execution_count": 40,
   "metadata": {},
   "outputs": [
    {
     "name": "stdout",
     "output_type": "stream",
     "text": [
      "41/41 [==============================] - 0s 1ms/step\n",
      "The prediction loss threshold is less than 0.0021 or more than 0.0081\n"
     ]
    },
    {
     "data": {
      "image/png": "[encoded data removed]",
      "text/plain": [
       "<Figure size 640x480 with 1 Axes>"
      ]
     },
     "metadata": {},
     "output_type": "display_data"
    }
   ],
   "source": [
    "# Predict anomalies/outliers in the training dataset\n",
    "prediction_X_train_normal = autoencoder.predict(X_train_normal)\n",
    "# Get the mean absolute error between actual and reconstruction/prediction\n",
    "prediction_loss = np.mean((X_train_normal - prediction_X_train_normal) ** 2, axis=(1, 2))\n",
    "# Get the threshold for anomalies/outliers detection using interquartile range\n",
    "IQR = np.quantile(prediction_loss, 0.75) - np.quantile(prediction_loss, 0.25)\n",
    "lower_threshold = np.quantile(prediction_loss, 0.25) - 1.5 * IQR\n",
    "upper_threshold = np.quantile(prediction_loss, 0.75) + 1.5 * IQR\n",
    "print(f'The prediction loss threshold is less than {lower_threshold:.4f} or more than {upper_threshold:.4f}')\n",
    "# Visualize the threshold\n",
    "sns.histplot(prediction_loss, bins=30, alpha=0.8)\n",
    "plt.axvline(x=lower_threshold, color='red')\n",
    "plt.axvline(x=upper_threshold, color='red')\n",
    "plt.show()"
   ]
  },
  {
   "cell_type": "code",
   "execution_count": 41,
   "metadata": {},
   "outputs": [
    {
     "name": "stdout",
     "output_type": "stream",
     "text": [
      "11/11 [==============================] - 0s 2ms/step\n",
      "              precision    recall  f1-score   support\n",
      "\n",
      "           0       0.33      0.14      0.20        14\n",
      "           1       0.96      0.99      0.98       327\n",
      "\n",
      "    accuracy                           0.95       341\n",
      "   macro avg       0.65      0.57      0.59       341\n",
      "weighted avg       0.94      0.95      0.94       341\n",
      "\n"
     ]
    }
   ],
   "source": [
    "# Predict anomalies/outliers in the training dataset\n",
    "prediction_X_test = autoencoder.predict(X_test)\n",
    "# Get the mean absolute error between actual and reconstruction/prediction\n",
    "reconstruction_error_X_test = np.mean((X_test - prediction_X_test) ** 2, axis=(1, 2))\n",
    "\n",
    "threshold_prediction = np.array([1 if (lower_threshold < i < upper_threshold) else 0 for i in reconstruction_error_X_test])\n",
    "\n",
    "print(classification_report(y_test, threshold_prediction))"
   ]
  }
 ],
 "metadata": {
  "kernelspec": {
   "display_name": "Python 3",
   "language": "python",
   "name": "python3"
  },
  "language_info": {
   "codemirror_mode": {
    "name": "ipython",
    "version": 3
   },
   "file_extension": ".py",
   "mimetype": "text/x-python",
   "name": "python",
   "nbconvert_exporter": "python",
   "pygments_lexer": "ipython3",
   "version": "3.11.11"
  }
 },
 "nbformat": 4,
 "nbformat_minor": 2
}
